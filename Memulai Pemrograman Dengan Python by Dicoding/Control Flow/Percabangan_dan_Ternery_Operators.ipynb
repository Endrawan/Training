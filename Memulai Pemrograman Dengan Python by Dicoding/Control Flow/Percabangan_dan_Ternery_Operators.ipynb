{
  "nbformat": 4,
  "nbformat_minor": 0,
  "metadata": {
    "colab": {
      "name": "Percabangan dan Ternery Operators.ipynb",
      "provenance": []
    },
    "kernelspec": {
      "name": "python3",
      "display_name": "Python 3"
    },
    "language_info": {
      "name": "python"
    }
  },
  "cells": [
    {
      "cell_type": "markdown",
      "metadata": {
        "id": "c6roOXcO3grR"
      },
      "source": [
        "# If"
      ]
    },
    {
      "cell_type": "code",
      "metadata": {
        "colab": {
          "base_uri": "https://localhost:8080/"
        },
        "id": "WsDb2_vL6JYR",
        "outputId": "b6ec6a13-4e49-4f08-f1d8-275bb8e67686"
      },
      "source": [
        "kelerengku = 10\n",
        "if kelerengku:\n",
        "    print (\"Cetak ini jika benar\")\n",
        "    print (kelerengku)"
      ],
      "execution_count": null,
      "outputs": [
        {
          "output_type": "stream",
          "text": [
            "Cetak ini jika benar\n",
            "10\n"
          ],
          "name": "stdout"
        }
      ]
    },
    {
      "cell_type": "markdown",
      "metadata": {
        "id": "Kq3-aGRl6SUG"
      },
      "source": [
        "# Else"
      ]
    },
    {
      "cell_type": "code",
      "metadata": {
        "colab": {
          "base_uri": "https://localhost:8080/"
        },
        "id": "bh-E5BVY6V7z",
        "outputId": "4dd54647-b2a5-498a-a2a6-1008fe7c4352"
      },
      "source": [
        "tinggi_badan = int(input(\"Masukkan tinggi badan Anda : \"))\n",
        "if tinggi_badan>=160:\n",
        "    print (\"Silakan, Anda boleh masuk\")\n",
        "else:\n",
        "    print (\"Maaf, Anda belum boleh masuk\")"
      ],
      "execution_count": null,
      "outputs": [
        {
          "output_type": "stream",
          "text": [
            "Masukkan tinggi badan Anda : 172\n",
            "Silakan, Anda boleh masuk\n"
          ],
          "name": "stdout"
        }
      ]
    },
    {
      "cell_type": "code",
      "metadata": {
        "colab": {
          "base_uri": "https://localhost:8080/"
        },
        "id": "4DpJkyty6X9z",
        "outputId": "a9e13a27-05a6-4162-d54a-e1bbcbf8f717"
      },
      "source": [
        "bilangan = 4\n",
        "if bilangan % 2 == 0:\n",
        "    print('Bilangan {} adalah genap'.format(bilangan))\n",
        "else:\n",
        "    print('Bilangan {} adalah ganjil'.format(bilangan))"
      ],
      "execution_count": null,
      "outputs": [
        {
          "output_type": "stream",
          "text": [
            "Bilangan 4 adalah genap\n"
          ],
          "name": "stdout"
        }
      ]
    },
    {
      "cell_type": "markdown",
      "metadata": {
        "id": "vVEiNRvV6hCz"
      },
      "source": [
        "# Elif - Alternatif untuk Switch/Case dan IF bertingkat di python"
      ]
    },
    {
      "cell_type": "code",
      "metadata": {
        "colab": {
          "base_uri": "https://localhost:8080/"
        },
        "id": "Vo6DVWUu6mXS",
        "outputId": "0b9a206b-16a6-4056-ff36-8f77af2bbd97"
      },
      "source": [
        "nilai = int(input(\"Masukkan nilai tugas Anda : \"))\n",
        "if nilai>80:\n",
        "    print(\"Selamat! Anda mendapat nilai A\")\n",
        "    print(\"Pertahankan!\")\n",
        "elif nilai>70:\n",
        "    print(\"Hore! Anda mendapat nilai B\")\n",
        "    print(\"Tingkatkan!\")\n",
        "elif nilai>60:\n",
        "    print(\"Hmm.. Anda mendapat nilai C\")\n",
        "    print(\"Ayo semangat!\")\n",
        "else:\n",
        "    print(\"Waduh, Anda mendapat nilai D\")\n",
        "    print(\"Yuk belajar lebih giat lagi!\")"
      ],
      "execution_count": null,
      "outputs": [
        {
          "output_type": "stream",
          "text": [
            "Masukkan nilai tugas Anda : 56\n",
            "Waduh, Anda mendapat nilai D\n",
            "Yuk belajar lebih giat lagi!\n"
          ],
          "name": "stdout"
        }
      ]
    },
    {
      "cell_type": "code",
      "metadata": {
        "colab": {
          "base_uri": "https://localhost:8080/"
        },
        "id": "dBIOpE7g6uay",
        "outputId": "7989e942-e138-4a44-9e5d-94d3f85b381f"
      },
      "source": [
        "bilangan = -3\n",
        "if bilangan > 0:\n",
        "    print('Bilangan {} adalah positif'.format(bilangan))\n",
        "elif bilangan < 0:\n",
        "    print('Bilangan {} adalah negatif'.format(bilangan))\n",
        "else:\n",
        "    print('Bilangan {} adalah nol'.format(bilangan))"
      ],
      "execution_count": null,
      "outputs": [
        {
          "output_type": "stream",
          "text": [
            "Bilangan -3 adalah negatif\n"
          ],
          "name": "stdout"
        }
      ]
    },
    {
      "cell_type": "markdown",
      "metadata": {
        "id": "Ar4sy_U96wBV"
      },
      "source": [
        "# Ternery Operators"
      ]
    },
    {
      "cell_type": "code",
      "metadata": {
        "colab": {
          "base_uri": "https://localhost:8080/",
          "height": 246
        },
        "id": "Qgb2aAhv60lY",
        "outputId": "6541c83b-3d28-4042-b2a6-8ab4cf1bc6fc"
      },
      "source": [
        "kondisi = True\n",
        "print(2 if kondisi else 1/0)\n",
        "#Output is 2\n",
        "  \n",
        "print((1/0, 2)[kondisi])\n",
        "#Eror Pembagian Nol akan muncul"
      ],
      "execution_count": null,
      "outputs": [
        {
          "output_type": "stream",
          "text": [
            "2\n"
          ],
          "name": "stdout"
        },
        {
          "output_type": "error",
          "ename": "ZeroDivisionError",
          "evalue": "ignored",
          "traceback": [
            "\u001b[0;31m---------------------------------------------------------------------------\u001b[0m",
            "\u001b[0;31mZeroDivisionError\u001b[0m                         Traceback (most recent call last)",
            "\u001b[0;32m<ipython-input-7-a935f9604750>\u001b[0m in \u001b[0;36m<module>\u001b[0;34m()\u001b[0m\n\u001b[1;32m      3\u001b[0m \u001b[0;31m#Output is 2\u001b[0m\u001b[0;34m\u001b[0m\u001b[0;34m\u001b[0m\u001b[0;34m\u001b[0m\u001b[0m\n\u001b[1;32m      4\u001b[0m \u001b[0;34m\u001b[0m\u001b[0m\n\u001b[0;32m----> 5\u001b[0;31m \u001b[0mprint\u001b[0m\u001b[0;34m(\u001b[0m\u001b[0;34m(\u001b[0m\u001b[0;36m1\u001b[0m\u001b[0;34m/\u001b[0m\u001b[0;36m0\u001b[0m\u001b[0;34m,\u001b[0m \u001b[0;36m2\u001b[0m\u001b[0;34m)\u001b[0m\u001b[0;34m[\u001b[0m\u001b[0mkondisi\u001b[0m\u001b[0;34m]\u001b[0m\u001b[0;34m)\u001b[0m\u001b[0;34m\u001b[0m\u001b[0;34m\u001b[0m\u001b[0m\n\u001b[0m\u001b[1;32m      6\u001b[0m \u001b[0;31m#Eror Pembagian Nol akan muncul\u001b[0m\u001b[0;34m\u001b[0m\u001b[0;34m\u001b[0m\u001b[0;34m\u001b[0m\u001b[0m\n",
            "\u001b[0;31mZeroDivisionError\u001b[0m: division by zero"
          ]
        }
      ]
    },
    {
      "cell_type": "markdown",
      "metadata": {
        "id": "HUguObWf7Sgr"
      },
      "source": [
        "# ShortHand Ternary"
      ]
    },
    {
      "cell_type": "code",
      "metadata": {
        "colab": {
          "base_uri": "https://localhost:8080/"
        },
        "id": "HjDTc5sW7Ug8",
        "outputId": "a413cb75-58b6-4d14-8c48-fc3944024bd5"
      },
      "source": [
        "hasil = None\n",
        "pesan = hasil or \"Tidak ada data\"\n",
        "print(pesan)"
      ],
      "execution_count": null,
      "outputs": [
        {
          "output_type": "stream",
          "text": [
            "Tidak ada data\n"
          ],
          "name": "stdout"
        }
      ]
    }
  ]
}