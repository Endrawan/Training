{
  "nbformat": 4,
  "nbformat_minor": 0,
  "metadata": {
    "colab": {
      "name": "Kontrol Perulangan.ipynb",
      "provenance": []
    },
    "kernelspec": {
      "name": "python3",
      "display_name": "Python 3"
    },
    "language_info": {
      "name": "python"
    }
  },
  "cells": [
    {
      "cell_type": "markdown",
      "metadata": {
        "id": "Ml7r1-chp9BI"
      },
      "source": [
        "# Break"
      ]
    },
    {
      "cell_type": "code",
      "metadata": {
        "colab": {
          "base_uri": "https://localhost:8080/"
        },
        "id": "LlRkIsBgqGGZ",
        "outputId": "7f85a5ea-31b4-48ac-c7b2-6b1b8e162efa"
      },
      "source": [
        "for huruf in 'Dico ding':\n",
        "    if huruf == ' ':\n",
        "        break\n",
        "    print('Huruf saat ini: {}'.format(huruf))"
      ],
      "execution_count": 1,
      "outputs": [
        {
          "output_type": "stream",
          "text": [
            "Huruf saat ini: D\n",
            "Huruf saat ini: i\n",
            "Huruf saat ini: c\n",
            "Huruf saat ini: o\n"
          ],
          "name": "stdout"
        }
      ]
    },
    {
      "cell_type": "code",
      "metadata": {
        "colab": {
          "base_uri": "https://localhost:8080/"
        },
        "id": "VlXczMkeqKCa",
        "outputId": "5ad2d4a1-66dc-432e-cfcc-b3f9e2b5dc65"
      },
      "source": [
        "for i in range (0,10):\n",
        "    for j in range (0,10):\n",
        "        if j>i:\n",
        "            print()\n",
        "            break\n",
        "        else:\n",
        "            print(\"*\",end=\"\")"
      ],
      "execution_count": 4,
      "outputs": [
        {
          "output_type": "stream",
          "text": [
            "*\n",
            "**\n",
            "***\n",
            "****\n",
            "*****\n",
            "******\n",
            "*******\n",
            "********\n",
            "*********\n",
            "**********"
          ],
          "name": "stdout"
        }
      ]
    },
    {
      "cell_type": "markdown",
      "metadata": {
        "id": "ZHQfza7sqP8K"
      },
      "source": [
        "# Continue"
      ]
    },
    {
      "cell_type": "code",
      "metadata": {
        "colab": {
          "base_uri": "https://localhost:8080/"
        },
        "id": "WBD0xSlFqfJR",
        "outputId": "d42110aa-f2a3-47a4-a78b-6d914e7b7dbc"
      },
      "source": [
        "for huruf in 'Dico ding':\n",
        "    if huruf == ' ':\n",
        "        continue\n",
        "    print('Huruf saat ini: {}'.format(huruf))"
      ],
      "execution_count": 5,
      "outputs": [
        {
          "output_type": "stream",
          "text": [
            "Huruf saat ini: D\n",
            "Huruf saat ini: i\n",
            "Huruf saat ini: c\n",
            "Huruf saat ini: o\n",
            "Huruf saat ini: d\n",
            "Huruf saat ini: i\n",
            "Huruf saat ini: n\n",
            "Huruf saat ini: g\n"
          ],
          "name": "stdout"
        }
      ]
    },
    {
      "cell_type": "code",
      "metadata": {
        "colab": {
          "base_uri": "https://localhost:8080/"
        },
        "id": "G0kXmswJqkdY",
        "outputId": "753a70f5-a859-43de-b3f1-b898b1fc8cea"
      },
      "source": [
        "jumlahbaris = 10\n",
        "baris = 0\n",
        "bintang = 0\n",
        "while baris < jumlahbaris:\n",
        "    if (bintang) >= (baris+1):\n",
        "        print()\n",
        "        baris = baris+1\n",
        "        bintang=0\n",
        "        continue      ##saat masuk ke if, maka bagian print * diluar if tidak akan dijalankan, langsung ulang ke while\n",
        "    print(\"*\",end=\"\")\n",
        "    bintang= bintang+1"
      ],
      "execution_count": 6,
      "outputs": [
        {
          "output_type": "stream",
          "text": [
            "*\n",
            "**\n",
            "***\n",
            "****\n",
            "*****\n",
            "******\n",
            "*******\n",
            "********\n",
            "*********\n",
            "**********\n"
          ],
          "name": "stdout"
        }
      ]
    },
    {
      "cell_type": "markdown",
      "metadata": {
        "id": "lkpOU488qnMy"
      },
      "source": [
        "# Else setelah for"
      ]
    },
    {
      "cell_type": "code",
      "metadata": {
        "colab": {
          "base_uri": "https://localhost:8080/"
        },
        "id": "g6S2Qx1eqw8N",
        "outputId": "7360a133-9ea3-4b4b-cf72-85357a147c6c"
      },
      "source": [
        "for n in range(2, 10):\n",
        "    for x in range(2, n):\n",
        "        if n % x == 0:\n",
        "            print( n, 'equals', x, '*', n/x)\n",
        "            break\n",
        "    else:\n",
        "        # loop fell through without finding a factor\n",
        "        print(n, ' adalah bilangan prima')"
      ],
      "execution_count": 8,
      "outputs": [
        {
          "output_type": "stream",
          "text": [
            "2  adalah bilangan prima\n",
            "3  adalah bilangan prima\n",
            "4 equals 2 * 2.0\n",
            "5  adalah bilangan prima\n",
            "6 equals 2 * 3.0\n",
            "7  adalah bilangan prima\n",
            "8 equals 2 * 4.0\n",
            "9 equals 3 * 3.0\n"
          ],
          "name": "stdout"
        }
      ]
    },
    {
      "cell_type": "markdown",
      "metadata": {
        "id": "gP19LXRfrLQi"
      },
      "source": [
        "# Else setelah While"
      ]
    },
    {
      "cell_type": "code",
      "metadata": {
        "colab": {
          "base_uri": "https://localhost:8080/"
        },
        "id": "sQO4dX3TrTtD",
        "outputId": "5374caf7-55c8-4fad-854d-287083ccdb72"
      },
      "source": [
        "n = 10\n",
        "while n > 0:\n",
        "    n = n - 1\n",
        "    if n == 7:\n",
        "        break\n",
        "    print(n)\n",
        "else:\n",
        "    print(\"Loop selesai\")"
      ],
      "execution_count": 10,
      "outputs": [
        {
          "output_type": "stream",
          "text": [
            "9\n",
            "8\n"
          ],
          "name": "stdout"
        }
      ]
    },
    {
      "cell_type": "code",
      "metadata": {
        "colab": {
          "base_uri": "https://localhost:8080/"
        },
        "id": "sLtQURifraZg",
        "outputId": "548c0974-e8d6-429c-84d3-267d6e5df431"
      },
      "source": [
        "n = 10\n",
        "while n > 0:\n",
        "    n = n - 1\n",
        "    print(n)\n",
        "else:\n",
        "    print(\"Loop selesai\")"
      ],
      "execution_count": 11,
      "outputs": [
        {
          "output_type": "stream",
          "text": [
            "9\n",
            "8\n",
            "7\n",
            "6\n",
            "5\n",
            "4\n",
            "3\n",
            "2\n",
            "1\n",
            "0\n",
            "Loop selesai\n"
          ],
          "name": "stdout"
        }
      ]
    },
    {
      "cell_type": "markdown",
      "metadata": {
        "id": "fKCfc74dr1Be"
      },
      "source": [
        "# Pass"
      ]
    },
    {
      "cell_type": "code",
      "metadata": {
        "id": "k9NeUXhQr-BT"
      },
      "source": [
        "def sebuahfungsi():\n",
        "    pass\n",
        "sebuahfungsi()"
      ],
      "execution_count": 12,
      "outputs": []
    },
    {
      "cell_type": "code",
      "metadata": {
        "colab": {
          "base_uri": "https://localhost:8080/"
        },
        "id": "T06srDw6sDdm",
        "outputId": "90de74d5-8479-4d72-8373-188611e8712c"
      },
      "source": [
        "import sys\n",
        "data=''\n",
        "while(data!='exit'):\n",
        "    try:\n",
        "        data=input('Please enter an integer (type exit to exit): ')\n",
        "        print('got integer: {}'.format(int(data)))\n",
        "    except:\n",
        "        if data == 'exit':\n",
        "            pass  # exit gracefully without prompt any error\n",
        "        else:\n",
        "            print('error: {}'.format(sys.exc_info()[0]))"
      ],
      "execution_count": 13,
      "outputs": [
        {
          "output_type": "stream",
          "text": [
            "Please enter an integer (type exit to exit): e\n",
            "error: <class 'ValueError'>\n",
            "Please enter an integer (type exit to exit): 1\n",
            "got integer: 1\n",
            "Please enter an integer (type exit to exit): exit\n"
          ],
          "name": "stdout"
        }
      ]
    },
    {
      "cell_type": "markdown",
      "metadata": {
        "id": "-zMi2C16sYr6"
      },
      "source": [
        "# List Comprehension (membuat list dengan inline loop dan if)"
      ]
    },
    {
      "cell_type": "code",
      "metadata": {
        "colab": {
          "base_uri": "https://localhost:8080/"
        },
        "id": "55mUfvXYsr14",
        "outputId": "9e81afa7-79ee-44cd-fca5-e27fe1f86271"
      },
      "source": [
        "#Cara 1\n",
        "angka = [1, 2, 3, 4]\n",
        "pangkat = []\n",
        "for n in angka:\n",
        "  pangkat.append(n**2)\n",
        "print(pangkat)"
      ],
      "execution_count": 14,
      "outputs": [
        {
          "output_type": "stream",
          "text": [
            "[1, 4, 9, 16]\n"
          ],
          "name": "stdout"
        }
      ]
    },
    {
      "cell_type": "code",
      "metadata": {
        "colab": {
          "base_uri": "https://localhost:8080/"
        },
        "id": "HSJDI28rsvXJ",
        "outputId": "361486a1-a1c1-451e-8b5c-d6d715db1813"
      },
      "source": [
        "#Cara 2 List Comprehension\n",
        "angka = [1, 2, 3, 4]\n",
        "pangkat = [n**2 for n in angka]\n",
        "print(pangkat)"
      ],
      "execution_count": 15,
      "outputs": [
        {
          "output_type": "stream",
          "text": [
            "[1, 4, 9, 16]\n"
          ],
          "name": "stdout"
        }
      ]
    },
    {
      "cell_type": "code",
      "metadata": {
        "colab": {
          "base_uri": "https://localhost:8080/"
        },
        "id": "JtkNxtJas0u-",
        "outputId": "8c4c3d33-b0ee-4879-a988-9b4596341d5f"
      },
      "source": [
        "#Contoh3 menemukan item yang ada di kedua list\n",
        "list1 = ['d', 'i', 'c', 'o']\n",
        "list2 = ['d', 'i', 'n', 'g']\n",
        "duplikat = []\n",
        "for a in list1:\n",
        "  for b in list2:\n",
        "    if a == b:\n",
        "      duplikat.append(a)\n",
        "      \n",
        "print(duplikat)  # Output ['d','i']"
      ],
      "execution_count": 17,
      "outputs": [
        {
          "output_type": "stream",
          "text": [
            "['d', 'i']\n"
          ],
          "name": "stdout"
        }
      ]
    },
    {
      "cell_type": "code",
      "metadata": {
        "colab": {
          "base_uri": "https://localhost:8080/"
        },
        "id": "XzIoOfDjtBqE",
        "outputId": "a4328e68-8411-4a48-82eb-b52283e49025"
      },
      "source": [
        "#Contoh4 Implementasi dengan list comprehension\n",
        "list1 = ['d', 'i', 'c', 'o']\n",
        "list2 = ['d', 'i', 'n', 'g']\n",
        "duplikat = [a for a in list1 for b in list2 if a == b]\n",
        "print(duplikat) # Output: ['d','i']"
      ],
      "execution_count": 18,
      "outputs": [
        {
          "output_type": "stream",
          "text": [
            "['d', 'i']\n"
          ],
          "name": "stdout"
        }
      ]
    },
    {
      "cell_type": "code",
      "metadata": {
        "colab": {
          "base_uri": "https://localhost:8080/"
        },
        "id": "_bsK4D9rtG56",
        "outputId": "ca28d709-5360-47a8-89ce-1aee5eaa3363"
      },
      "source": [
        "# Contoh 5 kecilkan semua huruf\n",
        "list_a = [\"Hello\", \"World\", \"In\", \"Python\"]\n",
        "small_list_a = [_.lower() for _ in list_a]\n",
        "print(small_list_a)"
      ],
      "execution_count": 19,
      "outputs": [
        {
          "output_type": "stream",
          "text": [
            "['hello', 'world', 'in', 'python']\n"
          ],
          "name": "stdout"
        }
      ]
    },
    {
      "cell_type": "code",
      "metadata": {
        "colab": {
          "base_uri": "https://localhost:8080/"
        },
        "id": "pDreprBNtKos",
        "outputId": "e9a48578-5ee6-41d0-e701-04baee4b8615"
      },
      "source": [
        "list_a = range(1, 10, 2)\n",
        "x = [[a**2, a**3] for a in list_a]\n",
        "print(x)"
      ],
      "execution_count": 20,
      "outputs": [
        {
          "output_type": "stream",
          "text": [
            "[[1, 1], [9, 27], [25, 125], [49, 343], [81, 729]]\n"
          ],
          "name": "stdout"
        }
      ]
    },
    {
      "cell_type": "code",
      "metadata": {
        "id": "Lgo5wjLmtTHW"
      },
      "source": [
        ""
      ],
      "execution_count": null,
      "outputs": []
    }
  ]
}