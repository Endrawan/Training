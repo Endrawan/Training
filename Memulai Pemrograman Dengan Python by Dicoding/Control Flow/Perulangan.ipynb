{
  "nbformat": 4,
  "nbformat_minor": 0,
  "metadata": {
    "colab": {
      "name": "Perulangan.ipynb",
      "provenance": []
    },
    "kernelspec": {
      "name": "python3",
      "display_name": "Python 3"
    },
    "language_info": {
      "name": "python"
    }
  },
  "cells": [
    {
      "cell_type": "markdown",
      "metadata": {
        "id": "Ntjl4kg6lcGO"
      },
      "source": [
        "# For"
      ]
    },
    {
      "cell_type": "code",
      "metadata": {
        "id": "naNzAuuD7hqp",
        "colab": {
          "base_uri": "https://localhost:8080/"
        },
        "outputId": "4de00db0-0961-430b-fb57-317bb4d05227"
      },
      "source": [
        "for huruf in 'Dicoding':  # Contoh pertama\n",
        "    print('Huruf: {}'.format(huruf))\n",
        "  \n",
        "flowers = ['mawar', 'melati', 'anggrek']\n",
        "for flower in flowers:  # Contoh kedua\n",
        "    print('Flower: {}'.format(flower))"
      ],
      "execution_count": 1,
      "outputs": [
        {
          "output_type": "stream",
          "text": [
            "Huruf: D\n",
            "Huruf: i\n",
            "Huruf: c\n",
            "Huruf: o\n",
            "Huruf: d\n",
            "Huruf: i\n",
            "Huruf: n\n",
            "Huruf: g\n",
            "Flower: mawar\n",
            "Flower: melati\n",
            "Flower: anggrek\n"
          ],
          "name": "stdout"
        }
      ]
    },
    {
      "cell_type": "code",
      "metadata": {
        "colab": {
          "base_uri": "https://localhost:8080/"
        },
        "id": "Cq6fQjImpSzz",
        "outputId": "a8e62e80-6ece-44f4-c601-bffe057ea6bb"
      },
      "source": [
        "flowers = ['mawar', 'melati', 'anggrek']\n",
        "for index in range(len(flowers)):\n",
        "    print('Flowers: {}'.format(flowers[index]))"
      ],
      "execution_count": 3,
      "outputs": [
        {
          "output_type": "stream",
          "text": [
            "Flowers: mawar\n",
            "Flowers: melati\n",
            "Flowers: anggrek\n"
          ],
          "name": "stdout"
        }
      ]
    },
    {
      "cell_type": "markdown",
      "metadata": {
        "id": "74o77KZLpY88"
      },
      "source": [
        "# While"
      ]
    },
    {
      "cell_type": "code",
      "metadata": {
        "colab": {
          "base_uri": "https://localhost:8080/"
        },
        "id": "Lt943V-4pb28",
        "outputId": "14a5505d-4f39-4b7e-e74e-cc2be78cdff8"
      },
      "source": [
        "count = 0\n",
        "while (count < 7):\n",
        "  print('Hitungannya adalah: {}'.format(count))\n",
        "  count = count + 1"
      ],
      "execution_count": 4,
      "outputs": [
        {
          "output_type": "stream",
          "text": [
            "Hitungannya adalah: 0\n",
            "Hitungannya adalah: 1\n",
            "Hitungannya adalah: 2\n",
            "Hitungannya adalah: 3\n",
            "Hitungannya adalah: 4\n",
            "Hitungannya adalah: 5\n",
            "Hitungannya adalah: 6\n"
          ],
          "name": "stdout"
        }
      ]
    },
    {
      "cell_type": "markdown",
      "metadata": {
        "id": "B6VT5pSBpj6j"
      },
      "source": [
        "# Perulangan bertingkat"
      ]
    },
    {
      "cell_type": "code",
      "metadata": {
        "id": "-Bb1_OaVpwBJ",
        "outputId": "640da75d-54d3-4093-a294-102637179e3c",
        "colab": {
          "base_uri": "https://localhost:8080/"
        }
      },
      "source": [
        "for i in range(0, 6):\n",
        "    for j in range(0, 6 - i):\n",
        "        print('*', end='')\n",
        "    print()"
      ],
      "execution_count": 5,
      "outputs": [
        {
          "output_type": "stream",
          "text": [
            "******\n",
            "*****\n",
            "****\n",
            "***\n",
            "**\n",
            "*\n"
          ],
          "name": "stdout"
        }
      ]
    }
  ]
}