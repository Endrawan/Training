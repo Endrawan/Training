{
  "nbformat": 4,
  "nbformat_minor": 0,
  "metadata": {
    "colab": {
      "name": "Dynamic Typing pada Python.ipynb",
      "provenance": []
    },
    "kernelspec": {
      "name": "python3",
      "display_name": "Python 3"
    },
    "language_info": {
      "name": "python"
    }
  },
  "cells": [
    {
      "cell_type": "markdown",
      "metadata": {
        "id": "wnAGAfxSWBE1"
      },
      "source": [
        "# Dynamic Typing pada Python"
      ]
    },
    {
      "cell_type": "code",
      "metadata": {
        "colab": {
          "base_uri": "https://localhost:8080/"
        },
        "id": "G7TNJZI7VxQL",
        "outputId": "a9aa29ea-a9c6-478d-d2a3-2b38b4b9bd74"
      },
      "source": [
        "# Ketika kita memberikan nilai 6 pada variabel x\n",
        "x = 6  \n",
        "print(type(x))\n",
        "# Kemudian Berikan string “hello” pada variabel x di baris selanjutnya\n",
        "x = 'hello'\n",
        "print(type(x))"
      ],
      "execution_count": 1,
      "outputs": [
        {
          "output_type": "stream",
          "text": [
            "<class 'int'>\n",
            "<class 'str'>\n"
          ],
          "name": "stdout"
        }
      ]
    },
    {
      "cell_type": "code",
      "metadata": {
        "id": "YPS8afFRWctQ"
      },
      "source": [
        "if False:\n",
        "    9 + \"satu\"  # Baris ini tidak dioperasikan, sehingga tidak muncul notifikasi TypeError\n",
        "else:\n",
        "    9 + 1"
      ],
      "execution_count": 2,
      "outputs": []
    },
    {
      "cell_type": "code",
      "metadata": {
        "colab": {
          "base_uri": "https://localhost:8080/",
          "height": 172
        },
        "id": "1F2nvxv9Wg08",
        "outputId": "01a07fc8-6cf9-43c3-d178-dd9515982043"
      },
      "source": [
        "9 + \"satu\" "
      ],
      "execution_count": 3,
      "outputs": [
        {
          "output_type": "error",
          "ename": "TypeError",
          "evalue": "ignored",
          "traceback": [
            "\u001b[0;31m---------------------------------------------------------------------------\u001b[0m",
            "\u001b[0;31mTypeError\u001b[0m                                 Traceback (most recent call last)",
            "\u001b[0;32m<ipython-input-3-182d78750c3c>\u001b[0m in \u001b[0;36m<module>\u001b[0;34m()\u001b[0m\n\u001b[0;32m----> 1\u001b[0;31m \u001b[0;36m9\u001b[0m \u001b[0;34m+\u001b[0m \u001b[0;34m\"satu\"\u001b[0m\u001b[0;34m\u001b[0m\u001b[0;34m\u001b[0m\u001b[0m\n\u001b[0m",
            "\u001b[0;31mTypeError\u001b[0m: unsupported operand type(s) for +: 'int' and 'str'"
          ]
        }
      ]
    },
    {
      "cell_type": "code",
      "metadata": {
        "colab": {
          "base_uri": "https://localhost:8080/"
        },
        "id": "D_PijhK9WnH3",
        "outputId": "be7bf55e-23c7-4d34-8cf7-d4135cb35933"
      },
      "source": [
        "contoh = \"Halo, Buchori\"\n",
        "print(type(contoh))"
      ],
      "execution_count": 4,
      "outputs": [
        {
          "output_type": "stream",
          "text": [
            "<class 'str'>\n"
          ],
          "name": "stdout"
        }
      ]
    },
    {
      "cell_type": "code",
      "metadata": {
        "colab": {
          "base_uri": "https://localhost:8080/"
        },
        "id": "nttshqisXsJd",
        "outputId": "e6d3e8e0-307b-4a7d-dbe1-7a5d15d61b2d"
      },
      "source": [
        "contoh = 19.7\n",
        "print(type(contoh))"
      ],
      "execution_count": 5,
      "outputs": [
        {
          "output_type": "stream",
          "text": [
            "<class 'float'>\n"
          ],
          "name": "stdout"
        }
      ]
    }
  ]
}