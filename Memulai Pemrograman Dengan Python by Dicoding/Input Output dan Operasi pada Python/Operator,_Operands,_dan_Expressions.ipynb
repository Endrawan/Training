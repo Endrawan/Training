{
  "nbformat": 4,
  "nbformat_minor": 0,
  "metadata": {
    "colab": {
      "name": "Operator, Operands, dan Expressions.ipynb",
      "provenance": []
    },
    "kernelspec": {
      "name": "python3",
      "display_name": "Python 3"
    },
    "language_info": {
      "name": "python"
    }
  },
  "cells": [
    {
      "cell_type": "code",
      "metadata": {
        "colab": {
          "base_uri": "https://localhost:8080/"
        },
        "id": "B8tTNHcD2sTh",
        "outputId": "a27b3059-8ffe-47aa-9786-a85049415d4d"
      },
      "source": [
        "print(2 + 3)"
      ],
      "execution_count": 1,
      "outputs": [
        {
          "output_type": "stream",
          "text": [
            "5\n"
          ],
          "name": "stdout"
        }
      ]
    },
    {
      "cell_type": "code",
      "metadata": {
        "colab": {
          "base_uri": "https://localhost:8080/"
        },
        "id": "Z3_5ofPe21wg",
        "outputId": "ce365e11-3981-4ad5-8d7d-75dc179c9109"
      },
      "source": [
        "print(3 * 5)"
      ],
      "execution_count": 4,
      "outputs": [
        {
          "output_type": "stream",
          "text": [
            "15\n"
          ],
          "name": "stdout"
        }
      ]
    },
    {
      "cell_type": "markdown",
      "metadata": {
        "id": "J8wXYuWC3U8R"
      },
      "source": [
        "# Cara singkat menuliskan operasi"
      ]
    },
    {
      "cell_type": "code",
      "metadata": {
        "id": "KY2ptRnU3WMh"
      },
      "source": [
        "a = 2\n",
        "a = a * 3"
      ],
      "execution_count": 5,
      "outputs": []
    },
    {
      "cell_type": "code",
      "metadata": {
        "id": "tJ37Xn1T3X4b"
      },
      "source": [
        "a = 2\n",
        "a *= 3"
      ],
      "execution_count": 6,
      "outputs": []
    }
  ]
}