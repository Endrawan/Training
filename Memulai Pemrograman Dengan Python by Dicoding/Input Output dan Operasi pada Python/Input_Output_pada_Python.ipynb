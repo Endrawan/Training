{
  "nbformat": 4,
  "nbformat_minor": 0,
  "metadata": {
    "colab": {
      "name": "Input/Output pada Python.ipynb",
      "provenance": []
    },
    "kernelspec": {
      "name": "python3",
      "display_name": "Python 3"
    },
    "language_info": {
      "name": "python"
    }
  },
  "cells": [
    {
      "cell_type": "markdown",
      "metadata": {
        "id": "uI1Mznu_N9vt"
      },
      "source": [
        "# Output"
      ]
    },
    {
      "cell_type": "markdown",
      "metadata": {
        "id": "32up6GjHOAkR"
      },
      "source": [
        "## Print"
      ]
    },
    {
      "cell_type": "code",
      "metadata": {
        "colab": {
          "base_uri": "https://localhost:8080/"
        },
        "id": "cA4x3woeNxUJ",
        "outputId": "eafcc947-fbb2-4fe0-dcf5-e618b7bc9648"
      },
      "source": [
        "print(\"Hello, World!\")"
      ],
      "execution_count": 1,
      "outputs": [
        {
          "output_type": "stream",
          "text": [
            "Hello, World!\n"
          ],
          "name": "stdout"
        }
      ]
    },
    {
      "cell_type": "markdown",
      "metadata": {
        "id": "d1ZU0SpcOFsa"
      },
      "source": [
        "## Memasukkan nilai variabel pada string"
      ]
    },
    {
      "cell_type": "code",
      "metadata": {
        "colab": {
          "base_uri": "https://localhost:8080/"
        },
        "id": "0BxenjbuOIeX",
        "outputId": "e7c97b1d-d00c-4740-fb84-85c3d753c245"
      },
      "source": [
        "x = 100\n",
        "print('Nilai x adalah', x)"
      ],
      "execution_count": 2,
      "outputs": [
        {
          "output_type": "stream",
          "text": [
            "Nilai x adalah 100\n"
          ],
          "name": "stdout"
        }
      ]
    },
    {
      "cell_type": "code",
      "metadata": {
        "colab": {
          "base_uri": "https://localhost:8080/"
        },
        "id": "u1fDg9jXOOBC",
        "outputId": "dee8d60e-ec2c-4a0e-da50-372a0d9b7410"
      },
      "source": [
        "print('hai {}'.format('bro'))"
      ],
      "execution_count": 3,
      "outputs": [
        {
          "output_type": "stream",
          "text": [
            "hai bro\n"
          ],
          "name": "stdout"
        }
      ]
    },
    {
      "cell_type": "code",
      "metadata": {
        "colab": {
          "base_uri": "https://localhost:8080/"
        },
        "id": "NFqLHhw-PkB-",
        "outputId": "fc31d047-851b-467b-b188-569bce9de8ac"
      },
      "source": [
        "nama = \"Dicoding\"\n",
        "print(\"Halo, %s!\" % nama)"
      ],
      "execution_count": 4,
      "outputs": [
        {
          "output_type": "stream",
          "text": [
            "Halo, Dicoding!\n"
          ],
          "name": "stdout"
        }
      ]
    },
    {
      "cell_type": "code",
      "metadata": {
        "colab": {
          "base_uri": "https://localhost:8080/"
        },
        "id": "3r5mot-yPuik",
        "outputId": "8de95fa9-4fa0-4dae-9781-6ac9e98f6972"
      },
      "source": [
        "nama = \"Dicoding\"\n",
        "umur = 5\n",
        "print(\"Umur %s adalah %d tahun.\" % (nama, umur))"
      ],
      "execution_count": 5,
      "outputs": [
        {
          "output_type": "stream",
          "text": [
            "Umur Dicoding adalah 5 tahun.\n"
          ],
          "name": "stdout"
        }
      ]
    },
    {
      "cell_type": "code",
      "metadata": {
        "colab": {
          "base_uri": "https://localhost:8080/"
        },
        "id": "mYvi5i0RPxwt",
        "outputId": "e1f08484-a86f-45fd-ade4-72d404e79a98"
      },
      "source": [
        "angka = [7, 9, 11, 13]\n",
        "print(\"Angka saya: %s\" % angka)"
      ],
      "execution_count": 6,
      "outputs": [
        {
          "output_type": "stream",
          "text": [
            "Angka saya: [7, 9, 11, 13]\n"
          ],
          "name": "stdout"
        }
      ]
    },
    {
      "cell_type": "code",
      "metadata": {
        "colab": {
          "base_uri": "https://localhost:8080/"
        },
        "id": "GhhEWee2P7C8",
        "outputId": "925966fc-d2f0-4008-c3e2-dc7f85ef6b30"
      },
      "source": [
        "a, b = 10, 11\n",
        "a, b\n",
        "print('a: %x and b: %X' % (a, b))"
      ],
      "execution_count": 7,
      "outputs": [
        {
          "output_type": "stream",
          "text": [
            "a: a and b: B\n"
          ],
          "name": "stdout"
        }
      ]
    },
    {
      "cell_type": "markdown",
      "metadata": {
        "id": "VArKFZKfQC4L"
      },
      "source": [
        "# Input"
      ]
    },
    {
      "cell_type": "markdown",
      "metadata": {
        "id": "uvRFWMPQQEMW"
      },
      "source": [
        "## input()"
      ]
    },
    {
      "cell_type": "code",
      "metadata": {
        "colab": {
          "base_uri": "https://localhost:8080/"
        },
        "id": "nr-G7j3yP_tX",
        "outputId": "e981e8ee-eeae-4781-e242-412bd64c6add"
      },
      "source": [
        "nilai = input('Masukkan angka : ')"
      ],
      "execution_count": 10,
      "outputs": [
        {
          "output_type": "stream",
          "text": [
            "Masukkan angka : 69\n"
          ],
          "name": "stdout"
        }
      ]
    },
    {
      "cell_type": "code",
      "metadata": {
        "colab": {
          "base_uri": "https://localhost:8080/"
        },
        "id": "af6xVffUQB6e",
        "outputId": "23e724ce-1233-4646-c88b-86d442bdc20c"
      },
      "source": [
        "print(nilai)"
      ],
      "execution_count": 11,
      "outputs": [
        {
          "output_type": "stream",
          "text": [
            "69\n"
          ],
          "name": "stdout"
        }
      ]
    },
    {
      "cell_type": "code",
      "metadata": {
        "colab": {
          "base_uri": "https://localhost:8080/"
        },
        "id": "sGxXTh-8QV0C",
        "outputId": "edbe0309-ab39-46b0-de4f-90edc99b124d"
      },
      "source": [
        "print(int(nilai))"
      ],
      "execution_count": 12,
      "outputs": [
        {
          "output_type": "stream",
          "text": [
            "69\n"
          ],
          "name": "stdout"
        }
      ]
    },
    {
      "cell_type": "code",
      "metadata": {
        "colab": {
          "base_uri": "https://localhost:8080/"
        },
        "id": "MIjWHlCiQZL0",
        "outputId": "be7a18ad-6f94-434e-b905-035926d56509"
      },
      "source": [
        "print(float(nilai))"
      ],
      "execution_count": 13,
      "outputs": [
        {
          "output_type": "stream",
          "text": [
            "69.0\n"
          ],
          "name": "stdout"
        }
      ]
    },
    {
      "cell_type": "code",
      "metadata": {
        "colab": {
          "base_uri": "https://localhost:8080/",
          "height": 172
        },
        "id": "dHN4cftDQcYF",
        "outputId": "7107f9ae-d51e-42bf-f3fc-be02a2bea795"
      },
      "source": [
        "print(int('90+10'))"
      ],
      "execution_count": 14,
      "outputs": [
        {
          "output_type": "error",
          "ename": "ValueError",
          "evalue": "ignored",
          "traceback": [
            "\u001b[0;31m---------------------------------------------------------------------------\u001b[0m",
            "\u001b[0;31mValueError\u001b[0m                                Traceback (most recent call last)",
            "\u001b[0;32m<ipython-input-14-52c960fe3128>\u001b[0m in \u001b[0;36m<module>\u001b[0;34m()\u001b[0m\n\u001b[0;32m----> 1\u001b[0;31m \u001b[0mprint\u001b[0m\u001b[0;34m(\u001b[0m\u001b[0mint\u001b[0m\u001b[0;34m(\u001b[0m\u001b[0;34m'90+10'\u001b[0m\u001b[0;34m)\u001b[0m\u001b[0;34m)\u001b[0m\u001b[0;34m\u001b[0m\u001b[0;34m\u001b[0m\u001b[0m\n\u001b[0m",
            "\u001b[0;31mValueError\u001b[0m: invalid literal for int() with base 10: '90+10'"
          ]
        }
      ]
    },
    {
      "cell_type": "code",
      "metadata": {
        "colab": {
          "base_uri": "https://localhost:8080/"
        },
        "id": "E0j-_aUQQgH6",
        "outputId": "60572b42-890b-405f-8c52-49bb6236bc93"
      },
      "source": [
        "print(eval('90+10'))"
      ],
      "execution_count": 15,
      "outputs": [
        {
          "output_type": "stream",
          "text": [
            "100\n"
          ],
          "name": "stdout"
        }
      ]
    },
    {
      "cell_type": "markdown",
      "metadata": {
        "id": "b1PQinaGUQx3"
      },
      "source": [
        "# Command-line arguments"
      ]
    },
    {
      "cell_type": "code",
      "metadata": {
        "colab": {
          "base_uri": "https://localhost:8080/"
        },
        "id": "lEa1-z3oUSoG",
        "outputId": "96e56279-9d00-43c7-a876-1aa98d126c1f"
      },
      "source": [
        "import sys\n",
        "print('Jumlah arguments:', len(sys.argv), 'arguments.')\n",
        "print('Argument List:', str(sys.argv))\n",
        "print(sys.argv[1])"
      ],
      "execution_count": 16,
      "outputs": [
        {
          "output_type": "stream",
          "text": [
            "Jumlah arguments: 3 arguments.\n",
            "Argument List: ['/usr/local/lib/python3.7/dist-packages/ipykernel_launcher.py', '-f', '/root/.local/share/jupyter/runtime/kernel-a383232a-9421-4165-b71e-d92e8bdbebf4.json']\n",
            "-f\n"
          ],
          "name": "stdout"
        }
      ]
    }
  ]
}