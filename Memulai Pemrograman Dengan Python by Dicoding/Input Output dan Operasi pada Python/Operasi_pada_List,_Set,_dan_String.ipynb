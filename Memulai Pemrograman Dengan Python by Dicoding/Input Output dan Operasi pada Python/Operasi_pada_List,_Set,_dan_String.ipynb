{
  "nbformat": 4,
  "nbformat_minor": 0,
  "metadata": {
    "colab": {
      "name": "Operasi pada List, Set, dan String.ipynb",
      "provenance": [],
      "collapsed_sections": []
    },
    "kernelspec": {
      "name": "python3",
      "display_name": "Python 3"
    },
    "language_info": {
      "name": "python"
    }
  },
  "cells": [
    {
      "cell_type": "markdown",
      "metadata": {
        "id": "tb2tXCt6yfPm"
      },
      "source": [
        "# len()"
      ]
    },
    {
      "cell_type": "code",
      "metadata": {
        "colab": {
          "base_uri": "https://localhost:8080/"
        },
        "id": "b2VZWB5d0-pl",
        "outputId": "6f78bd01-63df-4a3a-906a-c65b748dcdb2"
      },
      "source": [
        "contoh_list = [1, 3, 3, 5, 5, 5, 7, 7, 9]\n",
        "print(contoh_list)\n",
        "print(len(contoh_list))\n",
        "  \n",
        "contoh_set = set([1, 3, 3, 5, 5, 5, 7, 7, 9])\n",
        "print(contoh_set)\n",
        "print(len(contoh_set))\n",
        "  \n",
        "contoh_string = \"Belajar Python\"\n",
        "print(contoh_string)\n",
        "print(len(contoh_string))"
      ],
      "execution_count": 1,
      "outputs": [
        {
          "output_type": "stream",
          "text": [
            "[1, 3, 3, 5, 5, 5, 7, 7, 9]\n",
            "9\n",
            "{1, 3, 5, 7, 9}\n",
            "5\n",
            "Belajar Python\n",
            "14\n"
          ],
          "name": "stdout"
        }
      ]
    },
    {
      "cell_type": "markdown",
      "metadata": {
        "id": "JomhYDam1A9Z"
      },
      "source": [
        "# min() dan max()"
      ]
    },
    {
      "cell_type": "code",
      "metadata": {
        "colab": {
          "base_uri": "https://localhost:8080/"
        },
        "id": "X4JSiXb41Ik8",
        "outputId": "9174d72a-0d2f-4ff0-cddb-33e48279bc9a"
      },
      "source": [
        "angka = [13, 7, 24, 5, 96, 84, 71, 11, 38]\n",
        "print(min(angka))\n",
        "print(max(angka))"
      ],
      "execution_count": 2,
      "outputs": [
        {
          "output_type": "stream",
          "text": [
            "5\n",
            "96\n"
          ],
          "name": "stdout"
        }
      ]
    },
    {
      "cell_type": "markdown",
      "metadata": {
        "id": "sgfu4jPT1KGW"
      },
      "source": [
        "# Count"
      ]
    },
    {
      "cell_type": "code",
      "metadata": {
        "colab": {
          "base_uri": "https://localhost:8080/"
        },
        "id": "b-6FzguK1MLX",
        "outputId": "37cf3d3d-58bf-4846-e528-dbafe8548a40"
      },
      "source": [
        "genap = [2, 4, 4, 6, 6, 6, 8, 10, 10]\n",
        "print(genap.count(6))\n",
        "string = \"Belajar Python di Dicoding sangat menyenangkan\"\n",
        "substring = \"a\"\n",
        "print(string.count(substring))"
      ],
      "execution_count": 3,
      "outputs": [
        {
          "output_type": "stream",
          "text": [
            "3\n",
            "6\n"
          ],
          "name": "stdout"
        }
      ]
    },
    {
      "cell_type": "markdown",
      "metadata": {
        "id": "0KR7vAOb1ONu"
      },
      "source": [
        "# Penggabungan dan Replikasi"
      ]
    },
    {
      "cell_type": "code",
      "metadata": {
        "colab": {
          "base_uri": "https://localhost:8080/"
        },
        "id": "pJu6_b_Y1SIh",
        "outputId": "e3b55894-7a02-4d15-c8b8-d33b11187405"
      },
      "source": [
        "angka = [2, 4, 6, 8]\n",
        "huruf = ['P', 'Y', 'T', 'H', 'O', 'N']\n",
        "gabung = angka + huruf\n",
        "print(gabung)"
      ],
      "execution_count": 4,
      "outputs": [
        {
          "output_type": "stream",
          "text": [
            "[2, 4, 6, 8, 'P', 'Y', 'T', 'H', 'O', 'N']\n"
          ],
          "name": "stdout"
        }
      ]
    },
    {
      "cell_type": "code",
      "metadata": {
        "colab": {
          "base_uri": "https://localhost:8080/"
        },
        "id": "y0DnfJzD1TgU",
        "outputId": "358ed4e3-6d9c-4243-b024-ee0f0d62cea3"
      },
      "source": [
        "learn = ['P', 'Y', 'T', 'H', 'O', 'N']\n",
        "replikasi = learn * 2\n",
        "print(replikasi)"
      ],
      "execution_count": 5,
      "outputs": [
        {
          "output_type": "stream",
          "text": [
            "['P', 'Y', 'T', 'H', 'O', 'N', 'P', 'Y', 'T', 'H', 'O', 'N']\n"
          ],
          "name": "stdout"
        }
      ]
    },
    {
      "cell_type": "code",
      "metadata": {
        "colab": {
          "base_uri": "https://localhost:8080/"
        },
        "id": "hUHnxSzB1ZoS",
        "outputId": "e473bff5-f432-47e2-e93b-700f3990adc9"
      },
      "source": [
        "tujuh = [7]*7\n",
        "print(len(tujuh))\n",
        "print(tujuh)"
      ],
      "execution_count": 6,
      "outputs": [
        {
          "output_type": "stream",
          "text": [
            "7\n",
            "[7, 7, 7, 7, 7, 7, 7]\n"
          ],
          "name": "stdout"
        }
      ]
    },
    {
      "cell_type": "markdown",
      "metadata": {
        "id": "3tZW8pOT1cyR"
      },
      "source": [
        "# Range"
      ]
    },
    {
      "cell_type": "code",
      "metadata": {
        "colab": {
          "base_uri": "https://localhost:8080/"
        },
        "id": "mh2Xw1dp1fbh",
        "outputId": "9748186a-b2e6-458e-e724-6db0230aef57"
      },
      "source": [
        "for i in range(5):\n",
        "  print(i)"
      ],
      "execution_count": 7,
      "outputs": [
        {
          "output_type": "stream",
          "text": [
            "0\n",
            "1\n",
            "2\n",
            "3\n",
            "4\n"
          ],
          "name": "stdout"
        }
      ]
    },
    {
      "cell_type": "code",
      "metadata": {
        "colab": {
          "base_uri": "https://localhost:8080/"
        },
        "id": "Ge0LZXJ91j7w",
        "outputId": "e7f8bb79-7c95-411d-cfb4-3d2fa17a4e87"
      },
      "source": [
        "for i in range(1, 11):\n",
        "  print(i)"
      ],
      "execution_count": 8,
      "outputs": [
        {
          "output_type": "stream",
          "text": [
            "1\n",
            "2\n",
            "3\n",
            "4\n",
            "5\n",
            "6\n",
            "7\n",
            "8\n",
            "9\n",
            "10\n"
          ],
          "name": "stdout"
        }
      ]
    },
    {
      "cell_type": "code",
      "metadata": {
        "colab": {
          "base_uri": "https://localhost:8080/"
        },
        "id": "KmQnMhPv1oey",
        "outputId": "11a05a64-9032-429e-dd21-771e16cd1f36"
      },
      "source": [
        "print([_ for _ in range(0, 20, 5)])"
      ],
      "execution_count": 9,
      "outputs": [
        {
          "output_type": "stream",
          "text": [
            "[0, 5, 10, 15]\n"
          ],
          "name": "stdout"
        }
      ]
    },
    {
      "cell_type": "markdown",
      "metadata": {
        "id": "2KkNLda-1w-0"
      },
      "source": [
        "# in dan not in"
      ]
    },
    {
      "cell_type": "code",
      "metadata": {
        "colab": {
          "base_uri": "https://localhost:8080/"
        },
        "id": "acwYiVaN12ru",
        "outputId": "3eef8f62-c8e9-43a1-a2ce-d4a068160360"
      },
      "source": [
        "kalimat = \"Belajar Python di Dicoding sangat menyenangkan\"\n",
        "print('Dicoding' in kalimat)\n",
        "print('tidak' in kalimat)\n",
        "print('Dicoding' not in kalimat)\n",
        "print('tidak' not in kalimat)"
      ],
      "execution_count": 10,
      "outputs": [
        {
          "output_type": "stream",
          "text": [
            "True\n",
            "False\n",
            "False\n",
            "True\n"
          ],
          "name": "stdout"
        }
      ]
    },
    {
      "cell_type": "markdown",
      "metadata": {
        "id": "Rd1cOosC14vZ"
      },
      "source": [
        "# Memberikan nilai untuk multiple variabel"
      ]
    },
    {
      "cell_type": "code",
      "metadata": {
        "id": "b0mxBueO1_a7"
      },
      "source": [
        "data = ['shirt', 'white', 'L']\n",
        "apparel = data[0]\n",
        "color = data[1]\n",
        "size = data[2]"
      ],
      "execution_count": 11,
      "outputs": []
    },
    {
      "cell_type": "code",
      "metadata": {
        "id": "c9_xBeod2E7O"
      },
      "source": [
        "data = ['shirt', 'white', 'L'] # From List\n",
        "apparel, color, size = data\n",
        "data = ('shirt', 'white', 'L')  # From Tuple\n",
        "apparel, color, size = data"
      ],
      "execution_count": 12,
      "outputs": []
    },
    {
      "cell_type": "code",
      "metadata": {
        "colab": {
          "base_uri": "https://localhost:8080/"
        },
        "id": "4OWLHIix2N1L",
        "outputId": "9e834615-8891-45b3-d775-16fb1872bd20"
      },
      "source": [
        "apparel, color = 'shirt', 'white'\n",
        "apparel, color = color, apparel\n",
        "print(apparel)\n",
        "print(color)"
      ],
      "execution_count": 13,
      "outputs": [
        {
          "output_type": "stream",
          "text": [
            "white\n",
            "shirt\n"
          ],
          "name": "stdout"
        }
      ]
    },
    {
      "cell_type": "markdown",
      "metadata": {
        "id": "-Lsa1SGw2O6-"
      },
      "source": [
        "# Sort"
      ]
    },
    {
      "cell_type": "code",
      "metadata": {
        "colab": {
          "base_uri": "https://localhost:8080/"
        },
        "id": "q8k2rlYQ2RXz",
        "outputId": "e2347a5e-8bb7-4ea6-d23d-abbe7b3fd061"
      },
      "source": [
        "angka = [100, 1000, 500, 200, 5]\n",
        "angka.sort()\n",
        "print(angka)"
      ],
      "execution_count": 14,
      "outputs": [
        {
          "output_type": "stream",
          "text": [
            "[5, 100, 200, 500, 1000]\n"
          ],
          "name": "stdout"
        }
      ]
    },
    {
      "cell_type": "code",
      "metadata": {
        "colab": {
          "base_uri": "https://localhost:8080/"
        },
        "id": "pArpEBbX2Szf",
        "outputId": "207cff2c-8a87-4ae9-9629-95ff0cbb6d02"
      },
      "source": [
        "kendaraan = ['motor', 'mobil', 'helikopter', 'pesawat']\n",
        "kendaraan.sort()\n",
        "print(kendaraan)"
      ],
      "execution_count": 15,
      "outputs": [
        {
          "output_type": "stream",
          "text": [
            "['helikopter', 'mobil', 'motor', 'pesawat']\n"
          ],
          "name": "stdout"
        }
      ]
    },
    {
      "cell_type": "code",
      "metadata": {
        "colab": {
          "base_uri": "https://localhost:8080/"
        },
        "id": "LfwtAVVZ2WCF",
        "outputId": "2299f6ce-691a-4cb2-bcd5-e0ec35cb9e3f"
      },
      "source": [
        "kendaraan = ['motor', 'mobil', 'helikopter', 'pesawat']\n",
        "kendaraan.sort(reverse=True)\n",
        "print(kendaraan)"
      ],
      "execution_count": 16,
      "outputs": [
        {
          "output_type": "stream",
          "text": [
            "['pesawat', 'motor', 'mobil', 'helikopter']\n"
          ],
          "name": "stdout"
        }
      ]
    },
    {
      "cell_type": "code",
      "metadata": {
        "colab": {
          "base_uri": "https://localhost:8080/"
        },
        "id": "GCqsvmu42YVm",
        "outputId": "7f5041e6-bb74-4b1b-8d4d-6c72193863c6"
      },
      "source": [
        "kendaraan = ['Motor', 'Mobil', 'helikopter', 'pesawat']\n",
        "kendaraan.sort(key=str.lower)\n",
        "print(kendaraan)"
      ],
      "execution_count": 17,
      "outputs": [
        {
          "output_type": "stream",
          "text": [
            "['helikopter', 'Mobil', 'Motor', 'pesawat']\n"
          ],
          "name": "stdout"
        }
      ]
    }
  ]
}