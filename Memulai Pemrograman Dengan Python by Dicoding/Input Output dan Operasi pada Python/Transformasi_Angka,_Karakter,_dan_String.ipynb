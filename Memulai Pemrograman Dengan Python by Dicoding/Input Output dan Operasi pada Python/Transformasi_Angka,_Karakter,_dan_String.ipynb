{
  "nbformat": 4,
  "nbformat_minor": 0,
  "metadata": {
    "colab": {
      "name": "Transformasi Angka, Karakter, dan String.ipynb",
      "provenance": [],
      "collapsed_sections": []
    },
    "kernelspec": {
      "name": "python3",
      "display_name": "Python 3"
    },
    "language_info": {
      "name": "python"
    }
  },
  "cells": [
    {
      "cell_type": "markdown",
      "metadata": {
        "id": "3pZijsMms_J1"
      },
      "source": [
        "# Mengubah Huruf Besar / Kecil"
      ]
    },
    {
      "cell_type": "markdown",
      "metadata": {
        "id": "RSURsVpCtDk_"
      },
      "source": [
        "## upper()"
      ]
    },
    {
      "cell_type": "code",
      "metadata": {
        "colab": {
          "base_uri": "https://localhost:8080/"
        },
        "id": "_PBCbQzmswTj",
        "outputId": "015352c2-cdc5-4fe2-cd42-510aa05c3755"
      },
      "source": [
        "kata = 'dicoding'\n",
        "kata = kata.upper()\n",
        "print(kata)"
      ],
      "execution_count": 1,
      "outputs": [
        {
          "output_type": "stream",
          "text": [
            "DICODING\n"
          ],
          "name": "stdout"
        }
      ]
    },
    {
      "cell_type": "markdown",
      "metadata": {
        "id": "EmMY8SG7tHuw"
      },
      "source": [
        "## lower()"
      ]
    },
    {
      "cell_type": "code",
      "metadata": {
        "colab": {
          "base_uri": "https://localhost:8080/"
        },
        "id": "8BzpEc5jtS3Z",
        "outputId": "903c5364-8da7-4106-f3b9-d269ac77a521"
      },
      "source": [
        "kata = 'DICODING'\n",
        "kata = kata.lower()\n",
        "print(kata)"
      ],
      "execution_count": 3,
      "outputs": [
        {
          "output_type": "stream",
          "text": [
            "dicoding\n"
          ],
          "name": "stdout"
        }
      ]
    },
    {
      "cell_type": "markdown",
      "metadata": {
        "id": "MYLv_dXAtW3a"
      },
      "source": [
        "# Awalan dan Akhiran"
      ]
    },
    {
      "cell_type": "markdown",
      "metadata": {
        "id": "CvZjzCjZtgkC"
      },
      "source": [
        "## rstrip()"
      ]
    },
    {
      "cell_type": "code",
      "metadata": {
        "colab": {
          "base_uri": "https://localhost:8080/"
        },
        "id": "EkBaFMUytj90",
        "outputId": "45d123c3-c953-4d0a-d92d-26c94caffded"
      },
      "source": [
        "print('Dicoding       '.rstrip())"
      ],
      "execution_count": 4,
      "outputs": [
        {
          "output_type": "stream",
          "text": [
            "Dicoding\n"
          ],
          "name": "stdout"
        }
      ]
    },
    {
      "cell_type": "markdown",
      "metadata": {
        "id": "ysKsflIMtmU7"
      },
      "source": [
        "## lstrip()"
      ]
    },
    {
      "cell_type": "code",
      "metadata": {
        "colab": {
          "base_uri": "https://localhost:8080/"
        },
        "id": "-6E7fA3vtpli",
        "outputId": "d25aeb2e-3518-4d7a-9c4f-5c36a01f4870"
      },
      "source": [
        "print('       Dicoding'.lstrip())"
      ],
      "execution_count": 5,
      "outputs": [
        {
          "output_type": "stream",
          "text": [
            "Dicoding\n"
          ],
          "name": "stdout"
        }
      ]
    },
    {
      "cell_type": "markdown",
      "metadata": {
        "id": "JtDasva2trmY"
      },
      "source": [
        "## strip()"
      ]
    },
    {
      "cell_type": "code",
      "metadata": {
        "colab": {
          "base_uri": "https://localhost:8080/"
        },
        "id": "2CFdzOG9txMg",
        "outputId": "786c1bf1-2dc8-4ade-b6bb-a31b0bd75667"
      },
      "source": [
        "print('      Dicoding       '.strip())"
      ],
      "execution_count": 7,
      "outputs": [
        {
          "output_type": "stream",
          "text": [
            "Dicoding\n"
          ],
          "name": "stdout"
        }
      ]
    },
    {
      "cell_type": "code",
      "metadata": {
        "colab": {
          "base_uri": "https://localhost:8080/"
        },
        "id": "FCRKF_2ytz2i",
        "outputId": "099255ab-578a-4975-cc7c-781b57da3042"
      },
      "source": [
        "kata = 'CodeCodeDicodingCodeCode'\n",
        "print(kata.strip('Code'))"
      ],
      "execution_count": 8,
      "outputs": [
        {
          "output_type": "stream",
          "text": [
            "Dicoding\n"
          ],
          "name": "stdout"
        }
      ]
    },
    {
      "cell_type": "markdown",
      "metadata": {
        "id": "xwlPTIXQt7v-"
      },
      "source": [
        "## startswith()"
      ]
    },
    {
      "cell_type": "code",
      "metadata": {
        "colab": {
          "base_uri": "https://localhost:8080/"
        },
        "id": "Ux11DHEXt-xU",
        "outputId": "ce744767-58fb-4b15-c1e5-e6e140501cde"
      },
      "source": [
        "print('Dicoding Indonesia'.startswith('Dicoding'))"
      ],
      "execution_count": 9,
      "outputs": [
        {
          "output_type": "stream",
          "text": [
            "True\n"
          ],
          "name": "stdout"
        }
      ]
    },
    {
      "cell_type": "markdown",
      "metadata": {
        "id": "44VQwbcUuDB1"
      },
      "source": [
        "## endswith()"
      ]
    },
    {
      "cell_type": "code",
      "metadata": {
        "colab": {
          "base_uri": "https://localhost:8080/"
        },
        "id": "Pkgcr3skuFWa",
        "outputId": "81f9749a-0ae1-411b-b23e-a64e21734027"
      },
      "source": [
        "print('Dicoding Indonesia'.endswith('Indonesia'))"
      ],
      "execution_count": 10,
      "outputs": [
        {
          "output_type": "stream",
          "text": [
            "True\n"
          ],
          "name": "stdout"
        }
      ]
    },
    {
      "cell_type": "markdown",
      "metadata": {
        "id": "7QmXZmGMuH8r"
      },
      "source": [
        "# Memisah dan Menggabung String"
      ]
    },
    {
      "cell_type": "markdown",
      "metadata": {
        "id": "jSbGlmRXuKxy"
      },
      "source": [
        "## join()"
      ]
    },
    {
      "cell_type": "code",
      "metadata": {
        "colab": {
          "base_uri": "https://localhost:8080/"
        },
        "id": "iN7hGBy3uPTL",
        "outputId": "d057455e-b0ca-4c28-aa1d-9b74c7931b20"
      },
      "source": [
        "print(' '.join(['Dicoding', 'Indonesia', '!']))"
      ],
      "execution_count": 13,
      "outputs": [
        {
          "output_type": "stream",
          "text": [
            "Dicoding Indonesia !\n"
          ],
          "name": "stdout"
        }
      ]
    },
    {
      "cell_type": "code",
      "metadata": {
        "colab": {
          "base_uri": "https://localhost:8080/"
        },
        "id": "fQWOxbzXuUGC",
        "outputId": "c1ca4d9e-452b-4b66-e9dc-8916d83ea6dd"
      },
      "source": [
        "print('123'.join(['Dicoding', 'Indonesia', '!']))"
      ],
      "execution_count": 14,
      "outputs": [
        {
          "output_type": "stream",
          "text": [
            "Dicoding123Indonesia123!\n"
          ],
          "name": "stdout"
        }
      ]
    },
    {
      "cell_type": "markdown",
      "metadata": {
        "id": "ni7cmiOzueU3"
      },
      "source": [
        "## split()"
      ]
    },
    {
      "cell_type": "code",
      "metadata": {
        "colab": {
          "base_uri": "https://localhost:8080/"
        },
        "id": "fXvIGgKkug2k",
        "outputId": "ad83b744-316a-4dfe-f07d-bd41f34b1573"
      },
      "source": [
        "print('Dicoding Indonesia !'.split())"
      ],
      "execution_count": 15,
      "outputs": [
        {
          "output_type": "stream",
          "text": [
            "['Dicoding', 'Indonesia', '!']\n"
          ],
          "name": "stdout"
        }
      ]
    },
    {
      "cell_type": "code",
      "metadata": {
        "colab": {
          "base_uri": "https://localhost:8080/"
        },
        "id": "rV4ZrU5_umRU",
        "outputId": "af59b20a-359b-4b77-d04c-ddac11bc8e5b"
      },
      "source": [
        "print('Dicoding123Indonesia123!'.split('123'))"
      ],
      "execution_count": 16,
      "outputs": [
        {
          "output_type": "stream",
          "text": [
            "['Dicoding', 'Indonesia', '!']\n"
          ],
          "name": "stdout"
        }
      ]
    },
    {
      "cell_type": "code",
      "metadata": {
        "colab": {
          "base_uri": "https://localhost:8080/"
        },
        "id": "YUS8UQICusdw",
        "outputId": "6c7202c6-20f5-45c5-8686-785948a61286"
      },
      "source": [
        "print('''Halo,\n",
        "aku ikan,\n",
        "aku suka sekali menyelam\n",
        "aku tinggal di perairan.\n",
        "Badanku licin dan renangku cepat.\n",
        "Senang berkenalan denganmu.'''.split('\\n'))"
      ],
      "execution_count": 18,
      "outputs": [
        {
          "output_type": "stream",
          "text": [
            "['Halo,', 'aku ikan,', 'aku suka sekali menyelam', 'aku tinggal di perairan.', 'Badanku licin dan renangku cepat.', 'Senang berkenalan denganmu.']\n"
          ],
          "name": "stdout"
        }
      ]
    },
    {
      "cell_type": "markdown",
      "metadata": {
        "id": "PenAmUouuzhF"
      },
      "source": [
        "# Mengganti Elemen String"
      ]
    },
    {
      "cell_type": "markdown",
      "metadata": {
        "id": "rKgr9509u3t3"
      },
      "source": [
        "## replace()"
      ]
    },
    {
      "cell_type": "code",
      "metadata": {
        "colab": {
          "base_uri": "https://localhost:8080/"
        },
        "id": "fAJCtbhGu6Zd",
        "outputId": "9eb55737-e6a7-4198-83eb-2ab935cc5753"
      },
      "source": [
        "string = \"Ayo belajar Coding di Dicoding\"\n",
        "print(string.replace(\"Coding\", \"Pemrograman\"))"
      ],
      "execution_count": 19,
      "outputs": [
        {
          "output_type": "stream",
          "text": [
            "Ayo belajar Pemrograman di Dicoding\n"
          ],
          "name": "stdout"
        }
      ]
    },
    {
      "cell_type": "code",
      "metadata": {
        "colab": {
          "base_uri": "https://localhost:8080/"
        },
        "id": "no8nO5YuvBZe",
        "outputId": "9a85a1b7-e14c-4d29-972c-cb2b899f79fd"
      },
      "source": [
        "string = \"Ayo belajar Coding di Dicoding karena Coding adalah bahasa masa depan\"\n",
        "print(string.replace(\"Coding\", \"Pemrograman\", 1))"
      ],
      "execution_count": 20,
      "outputs": [
        {
          "output_type": "stream",
          "text": [
            "Ayo belajar Pemrograman di Dicoding karena Coding adalah bahasa masa depan\n"
          ],
          "name": "stdout"
        }
      ]
    },
    {
      "cell_type": "markdown",
      "metadata": {
        "id": "Erp5zrD9vKoJ"
      },
      "source": [
        "# Pengecekan String"
      ]
    },
    {
      "cell_type": "markdown",
      "metadata": {
        "id": "nEI3cWItvOxN"
      },
      "source": [
        "## isupper()"
      ]
    },
    {
      "cell_type": "code",
      "metadata": {
        "colab": {
          "base_uri": "https://localhost:8080/"
        },
        "id": "XmJLb3-ZvTOh",
        "outputId": "1f79db03-4314-40a2-e38f-980b0064c6c2"
      },
      "source": [
        "kata = 'DICODING'\n",
        "kata.isupper()"
      ],
      "execution_count": 21,
      "outputs": [
        {
          "output_type": "execute_result",
          "data": {
            "text/plain": [
              "True"
            ]
          },
          "metadata": {
            "tags": []
          },
          "execution_count": 21
        }
      ]
    },
    {
      "cell_type": "code",
      "metadata": {
        "colab": {
          "base_uri": "https://localhost:8080/"
        },
        "id": "ZrNx-3xvvWhI",
        "outputId": "777365f1-35ed-43ca-b25e-7ffa998c52e3"
      },
      "source": [
        "kata = 'Dicoding'\n",
        "kata.isupper()"
      ],
      "execution_count": 24,
      "outputs": [
        {
          "output_type": "execute_result",
          "data": {
            "text/plain": [
              "False"
            ]
          },
          "metadata": {
            "tags": []
          },
          "execution_count": 24
        }
      ]
    },
    {
      "cell_type": "markdown",
      "metadata": {
        "id": "8CpExL6FvvDV"
      },
      "source": [
        "## islower()"
      ]
    },
    {
      "cell_type": "code",
      "metadata": {
        "colab": {
          "base_uri": "https://localhost:8080/"
        },
        "id": "5qDOUfoJvapW",
        "outputId": "cd992b50-e9f7-46fc-da63-0625a055f2ec"
      },
      "source": [
        "kata = 'dicoding'\n",
        "kata.islower()"
      ],
      "execution_count": 25,
      "outputs": [
        {
          "output_type": "execute_result",
          "data": {
            "text/plain": [
              "True"
            ]
          },
          "metadata": {
            "tags": []
          },
          "execution_count": 25
        }
      ]
    },
    {
      "cell_type": "code",
      "metadata": {
        "colab": {
          "base_uri": "https://localhost:8080/"
        },
        "id": "6WvC23COvfH_",
        "outputId": "7352d2dc-074b-45a7-ffa2-6e1bc0f864e4"
      },
      "source": [
        "kata = 'Dicoding'\n",
        "kata.islower()"
      ],
      "execution_count": 26,
      "outputs": [
        {
          "output_type": "execute_result",
          "data": {
            "text/plain": [
              "False"
            ]
          },
          "metadata": {
            "tags": []
          },
          "execution_count": 26
        }
      ]
    },
    {
      "cell_type": "code",
      "metadata": {
        "colab": {
          "base_uri": "https://localhost:8080/"
        },
        "id": "ztCq3tzxvitr",
        "outputId": "3ff29855-e3c3-4717-d352-85c26de69a09"
      },
      "source": [
        "print('Dicoding'.upper().lower())\n",
        "print('Dicoding'.lower().upper())\n",
        "print('DICODING'.upper().lower().islower())\n",
        "print('DICODING'.upper().lower().isupper())"
      ],
      "execution_count": 27,
      "outputs": [
        {
          "output_type": "stream",
          "text": [
            "dicoding\n",
            "DICODING\n",
            "True\n",
            "False\n"
          ],
          "name": "stdout"
        }
      ]
    },
    {
      "cell_type": "markdown",
      "metadata": {
        "id": "T6CiOG7ivxs-"
      },
      "source": [
        "## isalpha()"
      ]
    },
    {
      "cell_type": "code",
      "metadata": {
        "colab": {
          "base_uri": "https://localhost:8080/"
        },
        "id": "XH-JWnGnvmAO",
        "outputId": "2c94d1cb-3691-4434-dd8c-adf2ac81ce7a"
      },
      "source": [
        "'dicoding'.isalpha()"
      ],
      "execution_count": 28,
      "outputs": [
        {
          "output_type": "execute_result",
          "data": {
            "text/plain": [
              "True"
            ]
          },
          "metadata": {
            "tags": []
          },
          "execution_count": 28
        }
      ]
    },
    {
      "cell_type": "markdown",
      "metadata": {
        "id": "vcC5Btr7vz9h"
      },
      "source": [
        "## isalnum()"
      ]
    },
    {
      "cell_type": "code",
      "metadata": {
        "colab": {
          "base_uri": "https://localhost:8080/"
        },
        "id": "PvOC7NgSv2KL",
        "outputId": "c95e2cc8-9e8f-4929-cd9b-834d09ace35f"
      },
      "source": [
        "'dicoding123'.isalnum()"
      ],
      "execution_count": 29,
      "outputs": [
        {
          "output_type": "execute_result",
          "data": {
            "text/plain": [
              "True"
            ]
          },
          "metadata": {
            "tags": []
          },
          "execution_count": 29
        }
      ]
    },
    {
      "cell_type": "markdown",
      "metadata": {
        "id": "dhwtIC6zv51m"
      },
      "source": [
        "## isdecimal()"
      ]
    },
    {
      "cell_type": "code",
      "metadata": {
        "colab": {
          "base_uri": "https://localhost:8080/"
        },
        "id": "HTyHEwH4v8g9",
        "outputId": "2b2244f2-0677-4b84-d801-086df7b77cc7"
      },
      "source": [
        "'12345'.isdecimal()"
      ],
      "execution_count": 30,
      "outputs": [
        {
          "output_type": "execute_result",
          "data": {
            "text/plain": [
              "True"
            ]
          },
          "metadata": {
            "tags": []
          },
          "execution_count": 30
        }
      ]
    },
    {
      "cell_type": "markdown",
      "metadata": {
        "id": "sR2XtoYMv-EN"
      },
      "source": [
        "## isspace()"
      ]
    },
    {
      "cell_type": "code",
      "metadata": {
        "colab": {
          "base_uri": "https://localhost:8080/"
        },
        "id": "RNDoctEKwBCg",
        "outputId": "6c295198-ae13-4608-c8d6-e8dd963bfae5"
      },
      "source": [
        "'    '.isspace()"
      ],
      "execution_count": 32,
      "outputs": [
        {
          "output_type": "execute_result",
          "data": {
            "text/plain": [
              "True"
            ]
          },
          "metadata": {
            "tags": []
          },
          "execution_count": 32
        }
      ]
    },
    {
      "cell_type": "markdown",
      "metadata": {
        "id": "85o4zjnKwLRM"
      },
      "source": [
        "## istitle()"
      ]
    },
    {
      "cell_type": "code",
      "metadata": {
        "colab": {
          "base_uri": "https://localhost:8080/"
        },
        "id": "k08lewmrwGMh",
        "outputId": "a784b447-2903-4b56-b069-cabea8c54c37"
      },
      "source": [
        "'Dicoding Indonesia'.istitle()"
      ],
      "execution_count": 33,
      "outputs": [
        {
          "output_type": "execute_result",
          "data": {
            "text/plain": [
              "True"
            ]
          },
          "metadata": {
            "tags": []
          },
          "execution_count": 33
        }
      ]
    },
    {
      "cell_type": "markdown",
      "metadata": {
        "id": "_XVcBmg0wOcR"
      },
      "source": [
        "# Formatting pada String"
      ]
    },
    {
      "cell_type": "markdown",
      "metadata": {
        "id": "wDwm9RKtwVU2"
      },
      "source": [
        "## zfill()"
      ]
    },
    {
      "cell_type": "markdown",
      "metadata": {
        "id": "ik4NaD2xwzjS"
      },
      "source": [
        "### zfill() pada angka"
      ]
    },
    {
      "cell_type": "code",
      "metadata": {
        "colab": {
          "base_uri": "https://localhost:8080/"
        },
        "id": "DCh2EjnIwXvn",
        "outputId": "0f2ec77b-9e11-4498-e695-9cc2db97d51f"
      },
      "source": [
        "# Contoh 1: Penggunaan zfill 5 pada angka satuan\n",
        "angka = 5\n",
        "print (str(angka).zfill(5));\n",
        "# Contoh 2: Penggunaan zfill 5 pada angka ratusan\n",
        "angka = 300\n",
        "print (str(angka).zfill(5));\n",
        "# Contoh 3: Penggunaan zfill 5 pada angka desimal negatif (memiliki koma)\n",
        "angka = -0.45\n",
        "print (str(angka).zfill(5));\n",
        "# Contoh 4: Penggunaan zfill 7 pada angka desimal negatif (memiliki koma)\n",
        "angka = -0.45\n",
        "print (str(angka).zfill(7));"
      ],
      "execution_count": 34,
      "outputs": [
        {
          "output_type": "stream",
          "text": [
            "00005\n",
            "00300\n",
            "-0.45\n",
            "-000.45\n"
          ],
          "name": "stdout"
        }
      ]
    },
    {
      "cell_type": "markdown",
      "metadata": {
        "id": "6zqY8pC2wjQi"
      },
      "source": [
        "### Penerapan zfill pada String"
      ]
    },
    {
      "cell_type": "code",
      "metadata": {
        "colab": {
          "base_uri": "https://localhost:8080/"
        },
        "id": "PMANOw5Iw5PF",
        "outputId": "37a3adad-ab15-49e3-96f6-57551b46123c"
      },
      "source": [
        "# Contoh 1\n",
        "kata = 'aku'\n",
        "print (kata.zfill(5));\n",
        "# Contoh 2\n",
        "kata = 'kamu'\n",
        "print (kata.zfill(5));\n",
        "# Contoh 3\n",
        "kata = 'dirinya'\n",
        "print (kata.zfill(5));"
      ],
      "execution_count": 35,
      "outputs": [
        {
          "output_type": "stream",
          "text": [
            "00aku\n",
            "0kamu\n",
            "dirinya\n"
          ],
          "name": "stdout"
        }
      ]
    },
    {
      "cell_type": "markdown",
      "metadata": {
        "id": "V7fx9Pjiw9xR"
      },
      "source": [
        "## rjust()"
      ]
    },
    {
      "cell_type": "code",
      "metadata": {
        "colab": {
          "base_uri": "https://localhost:8080/",
          "height": 36
        },
        "id": "tNblfStbxF5c",
        "outputId": "7318ae38-0251-493a-958c-32592b6ac358"
      },
      "source": [
        "'Dicoding'.rjust(20)"
      ],
      "execution_count": 36,
      "outputs": [
        {
          "output_type": "execute_result",
          "data": {
            "application/vnd.google.colaboratory.intrinsic+json": {
              "type": "string"
            },
            "text/plain": [
              "'            Dicoding'"
            ]
          },
          "metadata": {
            "tags": []
          },
          "execution_count": 36
        }
      ]
    },
    {
      "cell_type": "code",
      "metadata": {
        "colab": {
          "base_uri": "https://localhost:8080/",
          "height": 36
        },
        "id": "fqw3jQSPxH5g",
        "outputId": "7ad6b0f0-c4f0-480e-fc23-74ba61734662"
      },
      "source": [
        "'Dicoding'.ljust(20)"
      ],
      "execution_count": 37,
      "outputs": [
        {
          "output_type": "execute_result",
          "data": {
            "application/vnd.google.colaboratory.intrinsic+json": {
              "type": "string"
            },
            "text/plain": [
              "'Dicoding            '"
            ]
          },
          "metadata": {
            "tags": []
          },
          "execution_count": 37
        }
      ]
    },
    {
      "cell_type": "code",
      "metadata": {
        "colab": {
          "base_uri": "https://localhost:8080/",
          "height": 36
        },
        "id": "IR_8uiM5xNBL",
        "outputId": "dd3f7e9c-3661-436c-b883-22a54280d5fc"
      },
      "source": [
        "'Dicoding'.ljust(20, '!')"
      ],
      "execution_count": 38,
      "outputs": [
        {
          "output_type": "execute_result",
          "data": {
            "application/vnd.google.colaboratory.intrinsic+json": {
              "type": "string"
            },
            "text/plain": [
              "'Dicoding!!!!!!!!!!!!'"
            ]
          },
          "metadata": {
            "tags": []
          },
          "execution_count": 38
        }
      ]
    },
    {
      "cell_type": "markdown",
      "metadata": {
        "id": "JoGwL4JVxRY_"
      },
      "source": [
        "## center()"
      ]
    },
    {
      "cell_type": "code",
      "metadata": {
        "colab": {
          "base_uri": "https://localhost:8080/",
          "height": 36
        },
        "id": "IEk8RXl6xULL",
        "outputId": "3708d0a2-14cc-48af-bba8-3208e442a635"
      },
      "source": [
        "'Dicoding'.center(20)"
      ],
      "execution_count": 39,
      "outputs": [
        {
          "output_type": "execute_result",
          "data": {
            "application/vnd.google.colaboratory.intrinsic+json": {
              "type": "string"
            },
            "text/plain": [
              "'      Dicoding      '"
            ]
          },
          "metadata": {
            "tags": []
          },
          "execution_count": 39
        }
      ]
    },
    {
      "cell_type": "code",
      "metadata": {
        "colab": {
          "base_uri": "https://localhost:8080/",
          "height": 36
        },
        "id": "JyrKtt_dxXXi",
        "outputId": "5fb7ff14-eaca-4b2f-88fe-fc8119fb16d3"
      },
      "source": [
        "'Dicoding'.center(20, '-')"
      ],
      "execution_count": 40,
      "outputs": [
        {
          "output_type": "execute_result",
          "data": {
            "application/vnd.google.colaboratory.intrinsic+json": {
              "type": "string"
            },
            "text/plain": [
              "'------Dicoding------'"
            ]
          },
          "metadata": {
            "tags": []
          },
          "execution_count": 40
        }
      ]
    },
    {
      "cell_type": "markdown",
      "metadata": {
        "id": "oRVcrMR0xbkN"
      },
      "source": [
        "## String Literals"
      ]
    },
    {
      "cell_type": "code",
      "metadata": {
        "colab": {
          "base_uri": "https://localhost:8080/",
          "height": 135
        },
        "id": "1PUhL9cLxe5R",
        "outputId": "c00353eb-2f2c-481e-e374-acb4ab1c640c"
      },
      "source": [
        "st1 = 'Jum'at'"
      ],
      "execution_count": 41,
      "outputs": [
        {
          "output_type": "error",
          "ename": "SyntaxError",
          "evalue": "ignored",
          "traceback": [
            "\u001b[0;36m  File \u001b[0;32m\"<ipython-input-41-2ad9bd9c9861>\"\u001b[0;36m, line \u001b[0;32m1\u001b[0m\n\u001b[0;31m    st1 = 'Jum'at'\u001b[0m\n\u001b[0m                ^\u001b[0m\n\u001b[0;31mSyntaxError\u001b[0m\u001b[0;31m:\u001b[0m invalid syntax\n"
          ]
        }
      ]
    },
    {
      "cell_type": "code",
      "metadata": {
        "id": "6KoQyd-OxoGP"
      },
      "source": [
        "st1 = \"Jum'at\""
      ],
      "execution_count": 42,
      "outputs": []
    },
    {
      "cell_type": "code",
      "metadata": {
        "id": "JU2fpqHIxpxl"
      },
      "source": [
        "st1 = 'Jum\\'at'"
      ],
      "execution_count": 43,
      "outputs": []
    },
    {
      "cell_type": "code",
      "metadata": {
        "colab": {
          "base_uri": "https://localhost:8080/"
        },
        "id": "Gi42VnF7xt_W",
        "outputId": "ce1dcf00-2bda-42ad-b203-29f072f02cf8"
      },
      "source": [
        "    print(\"Halo!\\nKapan terakhir kali kita bertemu?\\nKita bertemu hari Jum\\'at yang lalu.\")"
      ],
      "execution_count": 44,
      "outputs": [
        {
          "output_type": "stream",
          "text": [
            "Halo!\n",
            "Kapan terakhir kali kita bertemu?\n",
            "Kita bertemu hari Jum'at yang lalu.\n"
          ],
          "name": "stdout"
        }
      ]
    },
    {
      "cell_type": "markdown",
      "metadata": {
        "id": "UNJLu2moxy77"
      },
      "source": [
        "## Raw Strings"
      ]
    },
    {
      "cell_type": "code",
      "metadata": {
        "colab": {
          "base_uri": "https://localhost:8080/"
        },
        "id": "UOaOLB3Lx4pW",
        "outputId": "ca046983-3414-494c-a12f-712bf69fd8cc"
      },
      "source": [
        "print(r'Dicoding\\tIndonesia')"
      ],
      "execution_count": 45,
      "outputs": [
        {
          "output_type": "stream",
          "text": [
            "Dicoding\\tIndonesia\n"
          ],
          "name": "stdout"
        }
      ]
    },
    {
      "cell_type": "code",
      "metadata": {
        "id": "cxWdfVTZx61T"
      },
      "source": [
        ""
      ],
      "execution_count": null,
      "outputs": []
    }
  ]
}