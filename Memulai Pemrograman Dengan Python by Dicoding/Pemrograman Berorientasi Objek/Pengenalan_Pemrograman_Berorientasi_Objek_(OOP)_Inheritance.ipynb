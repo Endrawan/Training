{
  "nbformat": 4,
  "nbformat_minor": 0,
  "metadata": {
    "colab": {
      "name": "Pengenalan Pemrograman Berorientasi Objek (OOP) - Inheritance.ipynb",
      "provenance": []
    },
    "kernelspec": {
      "name": "python3",
      "display_name": "Python 3"
    },
    "language_info": {
      "name": "python"
    }
  },
  "cells": [
    {
      "cell_type": "code",
      "metadata": {
        "id": "c6kZ3gqD_esC"
      },
      "source": [
        "class Kalkulator:\n",
        "    \"\"\"contoh kelas kalkulator sederhana. anggap kelas ini tidak boleh diubah!\"\"\"\n",
        "  \n",
        "    def __init__(self, nilai=0):\n",
        "        self.nilai = nilai\n",
        "  \n",
        "    def tambah_angka(self, angka1, angka2):\n",
        "        self.nilai = angka1 + angka2\n",
        "        if self.nilai > 9:  # kalkulator sederhana hanya memroses sampai 9\n",
        "            print('kalkulator sederhana melebihi batas angka: {}'.format(self.nilai))\n",
        "        return self.nilai"
      ],
      "execution_count": 1,
      "outputs": []
    },
    {
      "cell_type": "code",
      "metadata": {
        "id": "ISHSkOhU_sfT"
      },
      "source": [
        "class KalkulatorKali(Kalkulator):\n",
        "    \"\"\"contoh mewarisi kelas kalkulator sederhana\"\"\"\n",
        "  \n",
        "    def kali_angka(self, angka1, angka2):\n",
        "        self.nilai = angka1 * angka2\n",
        "        return self.nilai"
      ],
      "execution_count": 2,
      "outputs": []
    },
    {
      "cell_type": "code",
      "metadata": {
        "colab": {
          "base_uri": "https://localhost:8080/"
        },
        "id": "H4GyarJl_0YQ",
        "outputId": "2d2a30d5-378a-48d0-cada-7abfec2d989a"
      },
      "source": [
        "kk = KalkulatorKali()\n",
        "a = kk.kali_angka(2, 3)  # sesuai dengan definisi class memiliki fitur kali_angka\n",
        "print(a)\n",
        "  \n",
        "b = kk.tambah_angka(5, 6)  # memiliki fitur tambah_angka karena mewarisi dari Kalkulator\n",
        "print(b)"
      ],
      "execution_count": 3,
      "outputs": [
        {
          "output_type": "stream",
          "text": [
            "6\n",
            "kalkulator sederhana melebihi batas angka: 11\n",
            "11\n"
          ],
          "name": "stdout"
        }
      ]
    },
    {
      "cell_type": "markdown",
      "metadata": {
        "id": "oV9mSsM1_6Y0"
      },
      "source": [
        "# Menimpa (Override) Metode dengan Nama yang Sama Dengan Kelas Dasar"
      ]
    },
    {
      "cell_type": "code",
      "metadata": {
        "id": "oUlucb8CAIoM"
      },
      "source": [
        "class KalkulatorKali(Kalkulator):\n",
        "    \"\"\"contoh mewarisi kelas kalkulator sederhana\"\"\"\n",
        "  \n",
        "    def kali_angka(self, angka1, angka2):\n",
        "        self.nilai = angka1 * angka2\n",
        "        return self.nilai\n",
        "  \n",
        "    def tambah_angka(self, angka1, angka2):\n",
        "        self.nilai = angka1 + angka2\n",
        "        return self.nilai"
      ],
      "execution_count": 4,
      "outputs": []
    },
    {
      "cell_type": "code",
      "metadata": {
        "colab": {
          "base_uri": "https://localhost:8080/"
        },
        "id": "vefKQG-LAMC8",
        "outputId": "2df293b3-be65-451e-d7c9-af9b6c66cbd9"
      },
      "source": [
        "kk = KalkulatorKali()\n",
        "  \n",
        "b = kk.tambah_angka(5, 6)  # fitur tambah_angka yang dipanggil milik KalkulatorKali\n",
        "print(b)"
      ],
      "execution_count": 5,
      "outputs": [
        {
          "output_type": "stream",
          "text": [
            "11\n"
          ],
          "name": "stdout"
        }
      ]
    },
    {
      "cell_type": "markdown",
      "metadata": {
        "id": "5ZiZvPcJAfM-"
      },
      "source": [
        "# Pemanggilan Metode Kelas Dasar dari Kelas Turunan dengan Sintaksis Super"
      ]
    },
    {
      "cell_type": "code",
      "metadata": {
        "id": "2O5m8NYaA76A"
      },
      "source": [
        "class KalkulatorTambah(Kalkulator):\n",
        "    \"\"\"contoh mewarisi kelas kalkulator sederhana\"\"\"\n",
        "  \n",
        "    def tambah_angka(self, angka1, angka2):\n",
        "        if angka1 + angka2 <= 9:  # fitur ini sudah oke di kelas dasar, gunakan yang ada saja\n",
        "            super().tambah_angka(angka1, angka2)  # panggil fungsi dari Kalkulator lalu isi nilai\n",
        "        else:  # ini adalah fitur baru yang ingin diperbaiki dari keterbatasan kelas dasar\n",
        "            self.nilai = angka1 + angka2\n",
        "        return self.nilai"
      ],
      "execution_count": 6,
      "outputs": []
    }
  ]
}