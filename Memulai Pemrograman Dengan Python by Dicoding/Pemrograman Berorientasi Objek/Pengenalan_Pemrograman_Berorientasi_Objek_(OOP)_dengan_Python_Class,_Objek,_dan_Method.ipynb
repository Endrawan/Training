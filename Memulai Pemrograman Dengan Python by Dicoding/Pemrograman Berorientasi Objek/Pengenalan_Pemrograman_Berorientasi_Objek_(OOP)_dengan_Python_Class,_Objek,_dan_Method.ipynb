{
  "nbformat": 4,
  "nbformat_minor": 0,
  "metadata": {
    "colab": {
      "name": "Pengenalan Pemrograman Berorientasi Objek (OOP) dengan Python - Class, Objek, dan Method.ipynb",
      "provenance": []
    },
    "kernelspec": {
      "name": "python3",
      "display_name": "Python 3"
    },
    "language_info": {
      "name": "python"
    }
  },
  "cells": [
    {
      "cell_type": "markdown",
      "metadata": {
        "id": "eRr_p5TmttFt"
      },
      "source": [
        "# Class"
      ]
    },
    {
      "cell_type": "code",
      "metadata": {
        "id": "4fUX5dFR6kAB"
      },
      "source": [
        "class NamaKelas:\n",
        "    pass  # gantikan dengan pernyataan-pernyataan, misal: atribut atau metode"
      ],
      "execution_count": 2,
      "outputs": []
    },
    {
      "cell_type": "code",
      "metadata": {
        "colab": {
          "base_uri": "https://localhost:8080/"
        },
        "id": "DeN0h6Bv7JrA",
        "outputId": "d29396c4-3931-4062-9f19-42d28af7552a"
      },
      "source": [
        "class Kalkulator:\n",
        "    \"\"\"contoh kelas kalkulator sederhana\"\"\"\n",
        "    i = 12345\n",
        "  \n",
        "    def f(self):\n",
        "        return 'hello world'\n",
        "\n",
        "print(Kalkulator.i)\n",
        "Kalkulator.f"
      ],
      "execution_count": 8,
      "outputs": [
        {
          "output_type": "stream",
          "text": [
            "12345\n"
          ],
          "name": "stdout"
        },
        {
          "output_type": "execute_result",
          "data": {
            "text/plain": [
              "<function __main__.Kalkulator.f>"
            ]
          },
          "metadata": {
            "tags": []
          },
          "execution_count": 8
        }
      ]
    },
    {
      "cell_type": "markdown",
      "metadata": {
        "id": "JwheJuu27qui"
      },
      "source": [
        "# Objek"
      ]
    },
    {
      "cell_type": "code",
      "metadata": {
        "id": "L-fN_SV87sAX"
      },
      "source": [
        "k = Kalkulator()"
      ],
      "execution_count": 9,
      "outputs": []
    },
    {
      "cell_type": "code",
      "metadata": {
        "colab": {
          "base_uri": "https://localhost:8080/"
        },
        "id": "t1-6OoZP8Gl4",
        "outputId": "257cad74-b938-40aa-f141-d6597a6e1d1c"
      },
      "source": [
        "print(k.f())"
      ],
      "execution_count": 10,
      "outputs": [
        {
          "output_type": "stream",
          "text": [
            "hello world\n"
          ],
          "name": "stdout"
        }
      ]
    },
    {
      "cell_type": "code",
      "metadata": {
        "id": "hcWePTHT8HiP"
      },
      "source": [
        "class Kalkulator:\n",
        "    \"\"\"contoh kelas kalkulator sederhana\"\"\"\n",
        "  \n",
        "    def __init__(self):\n",
        "        self.i = 12345\n",
        "  \n",
        "    def f(self):\n",
        "        return 'hello world'"
      ],
      "execution_count": 11,
      "outputs": []
    },
    {
      "cell_type": "code",
      "metadata": {
        "id": "Eu6aNZeF8QcT"
      },
      "source": [
        "class KeranjangBelanja:\n",
        "    \"\"\"contoh tidak baik dilakukan dengan definisi variabel terbagi\"\"\"\n",
        "    isi = []  # menggunakan list di sini akan terbagi untuk semua instance. JANGAN DILAKUKAN"
      ],
      "execution_count": 12,
      "outputs": []
    },
    {
      "cell_type": "code",
      "metadata": {
        "id": "RWo6RkMe8xq4"
      },
      "source": [
        "k = Kalkulator()  # membuat instance dari kelas jadi objek, kemudian disimpan pada variabel k"
      ],
      "execution_count": 13,
      "outputs": []
    },
    {
      "cell_type": "code",
      "metadata": {
        "id": "g_WKDiNh84Mf"
      },
      "source": [
        "class Kalkulator:\n",
        "    \"\"\"contoh kelas kalkulator sederhana\"\"\"\n",
        "  \n",
        "    def __init__(self, i=12345):\n",
        "        self.i = i  # i adalah variabel pada constructor, self.i adalah variabel dari class\n",
        "  \n",
        "    def f(self):\n",
        "        return 'hello world'"
      ],
      "execution_count": 14,
      "outputs": []
    },
    {
      "cell_type": "code",
      "metadata": {
        "colab": {
          "base_uri": "https://localhost:8080/"
        },
        "id": "DGEbRx8v9DNM",
        "outputId": "66a195d4-f1aa-4782-f1d5-6bfcf48447bb"
      },
      "source": [
        "k = Kalkulator(i=1024)  # melakukan instantiation sekaligus mengisi atribut i jadi 1024\n",
        "print(k.i)              # mencetak atribut i dari objek k dengan keluaran nilai 1024"
      ],
      "execution_count": 15,
      "outputs": [
        {
          "output_type": "stream",
          "text": [
            "1024\n"
          ],
          "name": "stdout"
        }
      ]
    },
    {
      "cell_type": "markdown",
      "metadata": {
        "id": "569VPVX49Lqv"
      },
      "source": [
        "# Metode"
      ]
    },
    {
      "cell_type": "code",
      "metadata": {
        "colab": {
          "base_uri": "https://localhost:8080/",
          "height": 35
        },
        "id": "L9xfkR2X9NvG",
        "outputId": "c0436ba0-f4e0-455a-8f33-b2c421d92d0a"
      },
      "source": [
        "k.f()"
      ],
      "execution_count": 16,
      "outputs": [
        {
          "output_type": "execute_result",
          "data": {
            "application/vnd.google.colaboratory.intrinsic+json": {
              "type": "string"
            },
            "text/plain": [
              "'hello world'"
            ]
          },
          "metadata": {
            "tags": []
          },
          "execution_count": 16
        }
      ]
    },
    {
      "cell_type": "code",
      "metadata": {
        "colab": {
          "base_uri": "https://localhost:8080/",
          "height": 35
        },
        "id": "nbs1wqCm9z_U",
        "outputId": "72460a52-5b21-48e3-ef02-674cf17ed23e"
      },
      "source": [
        "Kalkulator.f(k)"
      ],
      "execution_count": 17,
      "outputs": [
        {
          "output_type": "execute_result",
          "data": {
            "application/vnd.google.colaboratory.intrinsic+json": {
              "type": "string"
            },
            "text/plain": [
              "'hello world'"
            ]
          },
          "metadata": {
            "tags": []
          },
          "execution_count": 17
        }
      ]
    },
    {
      "cell_type": "code",
      "metadata": {
        "id": "UZvV78f893rA"
      },
      "source": [
        "class Kalkulator:\n",
        "    \"\"\"contoh kelas kalkulator sederhana\"\"\"\n",
        "  \n",
        "    def f(self):\n",
        "        return 'hello world'\n",
        "  \n",
        "    @classmethod\n",
        "    def tambah_angka(cls, angka1, angka2):\n",
        "        return '{} + {} = {}'.format(angka1, angka2, angka1 + angka2)"
      ],
      "execution_count": 19,
      "outputs": []
    },
    {
      "cell_type": "code",
      "metadata": {
        "colab": {
          "base_uri": "https://localhost:8080/",
          "height": 35
        },
        "id": "jf0jXxEg-Cw0",
        "outputId": "383d036e-e8c2-425b-b200-67b06b78e133"
      },
      "source": [
        "Kalkulator.tambah_angka(1, 2)  # tanpa perlu memberikan masukan untuk argumen cls"
      ],
      "execution_count": 21,
      "outputs": [
        {
          "output_type": "execute_result",
          "data": {
            "application/vnd.google.colaboratory.intrinsic+json": {
              "type": "string"
            },
            "text/plain": [
              "'1 + 2 = 3'"
            ]
          },
          "metadata": {
            "tags": []
          },
          "execution_count": 21
        }
      ]
    },
    {
      "cell_type": "code",
      "metadata": {
        "colab": {
          "base_uri": "https://localhost:8080/"
        },
        "id": "dBFLLl1B-kLQ",
        "outputId": "f9a16ab4-251d-4b37-c95e-bf96c5871a0c"
      },
      "source": [
        "k = Kalkulator()\n",
        "print(k.tambah_angka(1, 2))"
      ],
      "execution_count": 22,
      "outputs": [
        {
          "output_type": "stream",
          "text": [
            "1 + 2 = 3\n"
          ],
          "name": "stdout"
        }
      ]
    },
    {
      "cell_type": "code",
      "metadata": {
        "id": "K9wc7q9B-oK0"
      },
      "source": [
        "class Kalkulator:\n",
        "    \"\"\"contoh kelas kalkulator sederhana\"\"\"\n",
        "  \n",
        "    def f(self):\n",
        "        return 'hello world'\n",
        "  \n",
        "    @staticmethod\n",
        "    def kali_angka(angka1, angka2):\n",
        "        return '{} x {} = {}'.format(angka1, angka2, angka1 * angka2)"
      ],
      "execution_count": 23,
      "outputs": []
    },
    {
      "cell_type": "code",
      "metadata": {
        "colab": {
          "base_uri": "https://localhost:8080/"
        },
        "id": "pplwUd0v-0EM",
        "outputId": "4596f7b2-a769-4962-adc0-fd6194253563"
      },
      "source": [
        "a = Kalkulator.kali_angka(2, 3)\n",
        "print(a)"
      ],
      "execution_count": 24,
      "outputs": [
        {
          "output_type": "stream",
          "text": [
            "2 x 3 = 6\n"
          ],
          "name": "stdout"
        }
      ]
    },
    {
      "cell_type": "code",
      "metadata": {
        "colab": {
          "base_uri": "https://localhost:8080/"
        },
        "id": "dV_HMWf6-6UA",
        "outputId": "7e8f79c7-735d-4db7-ac47-133d3a659dce"
      },
      "source": [
        "k = Kalkulator()\n",
        "a = k.kali_angka(2, 3)\n",
        "print(a)"
      ],
      "execution_count": 25,
      "outputs": [
        {
          "output_type": "stream",
          "text": [
            "2 x 3 = 6\n"
          ],
          "name": "stdout"
        }
      ]
    },
    {
      "cell_type": "code",
      "metadata": {
        "id": "ZmCuK5wq-7iJ"
      },
      "source": [
        ""
      ],
      "execution_count": null,
      "outputs": []
    }
  ]
}