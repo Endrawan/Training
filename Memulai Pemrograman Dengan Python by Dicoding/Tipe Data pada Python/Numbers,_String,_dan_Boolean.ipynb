{
  "nbformat": 4,
  "nbformat_minor": 0,
  "metadata": {
    "colab": {
      "name": "Numbers, String, dan Boolean.ipynb",
      "provenance": [],
      "collapsed_sections": [
        "cITqncFLGmyT",
        "GGMQ0QIyH_q3"
      ]
    },
    "kernelspec": {
      "name": "python3",
      "display_name": "Python 3"
    },
    "language_info": {
      "name": "python"
    }
  },
  "cells": [
    {
      "cell_type": "markdown",
      "metadata": {
        "id": "cITqncFLGmyT"
      },
      "source": [
        "# Numbers"
      ]
    },
    {
      "cell_type": "code",
      "metadata": {
        "colab": {
          "base_uri": "https://localhost:8080/"
        },
        "id": "9flpcEmpGbSw",
        "outputId": "7cbf8f60-cafb-4e20-9b5d-a040c858d0de"
      },
      "source": [
        "a = 10\n",
        "print(a, \"bertipe\", type(a))\n",
        "b = 1.7\n",
        "print(b, \"bertipe\", type(b))\n",
        "c = 1+3j\n",
        "print(c, \" Bertipe bilangan kompleks? \", isinstance(1+3j, complex))"
      ],
      "execution_count": 3,
      "outputs": [
        {
          "output_type": "stream",
          "text": [
            "10 bertipe <class 'int'>\n",
            "1.7 bertipe <class 'float'>  ippai\n",
            "(1+3j)  Bertipe bilangan kompleks?  True\n"
          ],
          "name": "stdout"
        }
      ]
    },
    {
      "cell_type": "code",
      "metadata": {
        "colab": {
          "base_uri": "https://localhost:8080/"
        },
        "id": "2uZb_lu2HJpq",
        "outputId": "0e441aa5-5ebd-449f-b606-f33783fae103"
      },
      "source": [
        "    x=[0]*10005;              #inisialisasi array 0 sebanyak 10005; x[0]=0\n",
        "    x[1]=1;                   #x[1]=1\n",
        "     \n",
        "    for j in range(2,10001):\n",
        "          x[j]=x[j-1]+x[j-2]  # Fibonacci\n",
        "    print(x[10000])"
      ],
      "execution_count": 6,
      "outputs": [
        {
          "output_type": "stream",
          "text": [
            "33644764876431783266621612005107543310302148460680063906564769974680081442166662368155595513633734025582065332680836159373734790483865268263040892463056431887354544369559827491606602099884183933864652731300088830269235673613135117579297437854413752130520504347701602264758318906527890855154366159582987279682987510631200575428783453215515103870818298969791613127856265033195487140214287532698187962046936097879900350962302291026368131493195275630227837628441540360584402572114334961180023091208287046088923962328835461505776583271252546093591128203925285393434620904245248929403901706233888991085841065183173360437470737908552631764325733993712871937587746897479926305837065742830161637408969178426378624212835258112820516370298089332099905707920064367426202389783111470054074998459250360633560933883831923386783056136435351892133279732908133732642652633989763922723407882928177953580570993691049175470808931841056146322338217465637321248226383092103297701648054726243842374862411453093812206564914032751086643394517512161526545361333111314042436854805106765843493523836959653428071768775328348234345557366719731392746273629108210679280784718035329131176778924659089938635459327894523777674406192240337638674004021330343297496902028328145933418826817683893072003634795623117103101291953169794607632737589253530772552375943788434504067715555779056450443016640119462580972216729758615026968443146952034614932291105970676243268515992834709891284706740862008587135016260312071903172086094081298321581077282076353186624611278245537208532365305775956430072517744315051539600905168603220349163222640885248852433158051534849622434848299380905070483482449327453732624567755879089187190803662058009594743150052402532709746995318770724376825907419939632265984147498193609285223945039707165443156421328157688908058783183404917434556270520223564846495196112460268313970975069382648706613264507665074611512677522748621598642530711298441182622661057163515069260029861704945425047491378115154139941550671256271197133252763631939606902895650288268608362241082050562430701794976171121233066073310059947366875\n"
          ],
          "name": "stdout"
        }
      ]
    },
    {
      "cell_type": "markdown",
      "metadata": {
        "id": "Jn6QuxH_Hghl"
      },
      "source": [
        "## Batasan akurasi variabel bertipe float"
      ]
    },
    {
      "cell_type": "code",
      "metadata": {
        "colab": {
          "base_uri": "https://localhost:8080/"
        },
        "id": "6cZFs8jMHjwk",
        "outputId": "143f0ba1-2186-4ab8-9227-e2d3db4c9988"
      },
      "source": [
        "b = 0.1234567890123456789\n",
        "print(b)"
      ],
      "execution_count": 7,
      "outputs": [
        {
          "output_type": "stream",
          "text": [
            "0.12345678901234568\n"
          ],
          "name": "stdout"
        }
      ]
    },
    {
      "cell_type": "markdown",
      "metadata": {
        "id": "ap4giIXsHzXW"
      },
      "source": [
        "## Jika berupa integer"
      ]
    },
    {
      "cell_type": "code",
      "metadata": {
        "colab": {
          "base_uri": "https://localhost:8080/"
        },
        "id": "qzNMDklAH02Z",
        "outputId": "8bf20a84-6f5e-4919-e02e-740bf210297f"
      },
      "source": [
        "a = 1234567890123456789\n",
        "print(a)"
      ],
      "execution_count": 8,
      "outputs": [
        {
          "output_type": "stream",
          "text": [
            "1234567890123456789\n"
          ],
          "name": "stdout"
        }
      ]
    },
    {
      "cell_type": "markdown",
      "metadata": {
        "id": "KFb16wmtH6IC"
      },
      "source": [
        "## Bilangan kompleks"
      ]
    },
    {
      "cell_type": "code",
      "metadata": {
        "colab": {
          "base_uri": "https://localhost:8080/"
        },
        "id": "Z9HBXjUAH7li",
        "outputId": "a1f1ce87-d21a-4248-dc98-78c598b1488f"
      },
      "source": [
        "c = 1+5j\n",
        "print(c)"
      ],
      "execution_count": 9,
      "outputs": [
        {
          "output_type": "stream",
          "text": [
            "(1+5j)\n"
          ],
          "name": "stdout"
        }
      ]
    },
    {
      "cell_type": "markdown",
      "metadata": {
        "id": "GGMQ0QIyH_q3"
      },
      "source": [
        "# Strings"
      ]
    },
    {
      "cell_type": "code",
      "metadata": {
        "colab": {
          "base_uri": "https://localhost:8080/"
        },
        "id": "z27_KKESIBng",
        "outputId": "72e436b2-29dd-444f-e520-d76617d38d73"
      },
      "source": [
        "s = \"Ini adalah string baris tunggal\"\n",
        "print(s)"
      ],
      "execution_count": 10,
      "outputs": [
        {
          "output_type": "stream",
          "text": [
            "Ini adalah string baris tunggal\n"
          ],
          "name": "stdout"
        }
      ]
    },
    {
      "cell_type": "code",
      "metadata": {
        "colab": {
          "base_uri": "https://localhost:8080/"
        },
        "id": "TgUfi1EXIFce",
        "outputId": "19edd47b-f252-48f8-ff4b-c0581b7a9708"
      },
      "source": [
        "s = '''Ini adalah string\n",
        "yang memiliki baris pertama\n",
        "dan selanjutnya baris kedua'''\n",
        "print(s)"
      ],
      "execution_count": 11,
      "outputs": [
        {
          "output_type": "stream",
          "text": [
            "Ini adalah string\n",
            "yang memiliki baris pertama\n",
            "dan selanjutnya baris kedua\n"
          ],
          "name": "stdout"
        }
      ]
    }
  ]
}